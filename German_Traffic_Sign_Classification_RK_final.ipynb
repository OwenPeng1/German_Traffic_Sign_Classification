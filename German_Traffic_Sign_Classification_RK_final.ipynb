{
 "cells": [
  {
   "cell_type": "code",
   "execution_count": 235,
   "metadata": {},
   "outputs": [],
   "source": [
    "from keras.utils import to_categorical\n",
    "from keras import layers\n",
    "from keras import models\n",
    "from keras.models import load_model\n",
    "from keras.preprocessing.image import ImageDataGenerator, array_to_img, img_to_array, load_img\n",
    "import matplotlib.pyplot as plt\n",
    "import numpy as np\n",
    "import os\n",
    "from PIL import Image\n",
    "from matplotlib import image\n",
    "from matplotlib import pyplot\n",
    "import pandas as pd\n",
    "from keras.utils import to_categorical\n",
    "import seaborn as sns\n",
    "from sklearn.metrics import accuracy_score, confusion_matrix, classification_report, f1_score "
   ]
  },
  {
   "cell_type": "markdown",
   "metadata": {},
   "source": [
    "### Loading Data into Data Frame"
   ]
  },
  {
   "cell_type": "code",
   "execution_count": 200,
   "metadata": {},
   "outputs": [
    {
     "name": "stdout",
     "output_type": "stream",
     "text": [
      "(43, 5)\n"
     ]
    }
   ],
   "source": [
    "# loading Meta data csv\n",
    "Meta_df = pd.read_csv('../German_Traffic_Sign_Classification/gtsrb-german-traffic-sign/Meta.csv')\n",
    "print(Meta_df.shape)"
   ]
  },
  {
   "cell_type": "code",
   "execution_count": 78,
   "metadata": {},
   "outputs": [],
   "source": [
    "# loading test data csv\n",
    "df = pd.read_csv('gtsrb-german-traffic-sign/test.csv')\n",
    "\n",
    "# ClassId identifies the photo class\n",
    "test_df = list(df['ClassId'].astype('str'))\n",
    "df['ClassId'] = df['ClassId'].astype('str')"
   ]
  },
  {
   "cell_type": "code",
   "execution_count": 201,
   "metadata": {},
   "outputs": [
    {
     "name": "stdout",
     "output_type": "stream",
     "text": [
      "(39209, 8)\n",
      "<class 'pandas.core.frame.DataFrame'>\n",
      "RangeIndex: 39209 entries, 0 to 39208\n",
      "Data columns (total 8 columns):\n",
      "Width      39209 non-null int64\n",
      "Height     39209 non-null int64\n",
      "Roi.X1     39209 non-null int64\n",
      "Roi.Y1     39209 non-null int64\n",
      "Roi.X2     39209 non-null int64\n",
      "Roi.Y2     39209 non-null int64\n",
      "ClassId    39209 non-null int64\n",
      "Path       39209 non-null object\n",
      "dtypes: int64(7), object(1)\n",
      "memory usage: 2.4+ MB\n"
     ]
    }
   ],
   "source": [
    "# Loading train data csv\n",
    "train_df = pd.read_csv('../German_Traffic_Sign_Classification/gtsrb-german-traffic-sign/Train.csv')\n",
    "print(train_df.shape)\n",
    "train_df.info()"
   ]
  },
  {
   "cell_type": "markdown",
   "metadata": {},
   "source": [
    "### Load Images"
   ]
  },
  {
   "cell_type": "code",
   "execution_count": 41,
   "metadata": {},
   "outputs": [],
   "source": [
    "# df = pd.read_csv('Test.csv')\n",
    "# # # df['ClassId'].sort_values(ascending=True).unique()\n",
    "# df.head()"
   ]
  },
  {
   "cell_type": "code",
   "execution_count": 202,
   "metadata": {},
   "outputs": [],
   "source": [
    "# Path directories for  train and test images\n",
    "train_data_dir = '../German_Traffic_Sign_Classification/gtsrb-german-traffic-sign/Train'\n",
    "test_data_dir = '../German_Traffic_Sign_Classification/gtsrb-german-traffic-sign/Test_2'"
   ]
  },
  {
   "cell_type": "code",
   "execution_count": 134,
   "metadata": {},
   "outputs": [
    {
     "name": "stdout",
     "output_type": "stream",
     "text": [
      "Found 39209 images belonging to 43 classes.\n"
     ]
    },
    {
     "name": "stderr",
     "output_type": "stream",
     "text": [
      "/opt/anaconda3/lib/python3.7/site-packages/keras_preprocessing/image/dataframe_iterator.py:211: UserWarning: `classes` will be ignored given the class_mode=\"raw\"\n",
      "  .format(self.class_mode))\n"
     ]
    },
    {
     "name": "stdout",
     "output_type": "stream",
     "text": [
      "Found 12630 validated image filenames.\n"
     ]
    }
   ],
   "source": [
    "# Generating images from Directories\n",
    "train_generator = ImageDataGenerator(rescale=1./255).flow_from_directory(\n",
    "        train_data_dir, \n",
    "        target_size=(64, 64),\n",
    "        classes =  [str(i) for i in np.arange(43)], \n",
    "        batch_size=39209)\n",
    "\n",
    "# for test_generator, we use .flow_from_database to ensure that labels correspond to images.\n",
    "test_generator = ImageDataGenerator(rescale=1./255).flow_from_dataframe(\n",
    "        dataframe= df,\n",
    "        directory= test_data_dir,\n",
    "        x_col= 'Path',\n",
    "        y_col = 'ClassId',\n",
    "        target_size=(64, 64),\n",
    "        batch_size=12630,\n",
    "        classes= test_df,\n",
    "        class_mode='raw')\n",
    "train_images, train_labels = next(train_generator)\n",
    "test_images, test_labels = next(test_generator)"
   ]
  },
  {
   "cell_type": "markdown",
   "metadata": {},
   "source": [
    "### Reshaping Data\n",
    "Clarify why reshaping wasn't necessary"
   ]
  },
  {
   "cell_type": "code",
   "execution_count": 135,
   "metadata": {},
   "outputs": [],
   "source": [
    "train_labels = np.array([list(img).index(1.0) for img in train_labels])\n",
    "train_labels= to_categorical(train_labels)\n",
    "test_labels= to_categorical(test_labels)"
   ]
  },
  {
   "cell_type": "markdown",
   "metadata": {},
   "source": [
    "Image data and label data now have the same shape."
   ]
  },
  {
   "cell_type": "code",
   "execution_count": 203,
   "metadata": {},
   "outputs": [
    {
     "data": {
      "text/plain": [
       "(39209, 43)"
      ]
     },
     "execution_count": 203,
     "metadata": {},
     "output_type": "execute_result"
    }
   ],
   "source": [
    "train_labels.shape"
   ]
  },
  {
   "cell_type": "code",
   "execution_count": 140,
   "metadata": {},
   "outputs": [
    {
     "name": "stdout",
     "output_type": "stream",
     "text": [
      "(39209, 8)\n",
      "(12630, 8)\n"
     ]
    }
   ],
   "source": [
    "print(train_df.shape)\n",
    "print(df.shape)"
   ]
  },
  {
   "cell_type": "code",
   "execution_count": 100,
   "metadata": {},
   "outputs": [
    {
     "data": {
      "text/html": [
       "<div>\n",
       "<style scoped>\n",
       "    .dataframe tbody tr th:only-of-type {\n",
       "        vertical-align: middle;\n",
       "    }\n",
       "\n",
       "    .dataframe tbody tr th {\n",
       "        vertical-align: top;\n",
       "    }\n",
       "\n",
       "    .dataframe thead th {\n",
       "        text-align: right;\n",
       "    }\n",
       "</style>\n",
       "<table border=\"1\" class=\"dataframe\">\n",
       "  <thead>\n",
       "    <tr style=\"text-align: right;\">\n",
       "      <th></th>\n",
       "      <th>Width</th>\n",
       "      <th>Height</th>\n",
       "      <th>Roi.X1</th>\n",
       "      <th>Roi.Y1</th>\n",
       "      <th>Roi.X2</th>\n",
       "      <th>Roi.Y2</th>\n",
       "      <th>ClassId</th>\n",
       "      <th>Path</th>\n",
       "    </tr>\n",
       "  </thead>\n",
       "  <tbody>\n",
       "    <tr>\n",
       "      <td>0</td>\n",
       "      <td>27</td>\n",
       "      <td>26</td>\n",
       "      <td>5</td>\n",
       "      <td>5</td>\n",
       "      <td>22</td>\n",
       "      <td>20</td>\n",
       "      <td>20</td>\n",
       "      <td>Train/20/00020_00000_00000.png</td>\n",
       "    </tr>\n",
       "    <tr>\n",
       "      <td>1</td>\n",
       "      <td>28</td>\n",
       "      <td>27</td>\n",
       "      <td>5</td>\n",
       "      <td>6</td>\n",
       "      <td>23</td>\n",
       "      <td>22</td>\n",
       "      <td>20</td>\n",
       "      <td>Train/20/00020_00000_00001.png</td>\n",
       "    </tr>\n",
       "    <tr>\n",
       "      <td>2</td>\n",
       "      <td>29</td>\n",
       "      <td>26</td>\n",
       "      <td>6</td>\n",
       "      <td>5</td>\n",
       "      <td>24</td>\n",
       "      <td>21</td>\n",
       "      <td>20</td>\n",
       "      <td>Train/20/00020_00000_00002.png</td>\n",
       "    </tr>\n",
       "    <tr>\n",
       "      <td>3</td>\n",
       "      <td>28</td>\n",
       "      <td>27</td>\n",
       "      <td>5</td>\n",
       "      <td>6</td>\n",
       "      <td>23</td>\n",
       "      <td>22</td>\n",
       "      <td>20</td>\n",
       "      <td>Train/20/00020_00000_00003.png</td>\n",
       "    </tr>\n",
       "    <tr>\n",
       "      <td>4</td>\n",
       "      <td>28</td>\n",
       "      <td>26</td>\n",
       "      <td>5</td>\n",
       "      <td>5</td>\n",
       "      <td>23</td>\n",
       "      <td>21</td>\n",
       "      <td>20</td>\n",
       "      <td>Train/20/00020_00000_00004.png</td>\n",
       "    </tr>\n",
       "  </tbody>\n",
       "</table>\n",
       "</div>"
      ],
      "text/plain": [
       "   Width  Height  Roi.X1  Roi.Y1  Roi.X2  Roi.Y2  ClassId  \\\n",
       "0     27      26       5       5      22      20       20   \n",
       "1     28      27       5       6      23      22       20   \n",
       "2     29      26       6       5      24      21       20   \n",
       "3     28      27       5       6      23      22       20   \n",
       "4     28      26       5       5      23      21       20   \n",
       "\n",
       "                             Path  \n",
       "0  Train/20/00020_00000_00000.png  \n",
       "1  Train/20/00020_00000_00001.png  \n",
       "2  Train/20/00020_00000_00002.png  \n",
       "3  Train/20/00020_00000_00003.png  \n",
       "4  Train/20/00020_00000_00004.png  "
      ]
     },
     "execution_count": 100,
     "metadata": {},
     "output_type": "execute_result"
    }
   ],
   "source": [
    "train_df.head()"
   ]
  },
  {
   "cell_type": "code",
   "execution_count": 113,
   "metadata": {},
   "outputs": [
    {
     "data": {
      "text/plain": [
       "Width                                  43\n",
       "Height                                 41\n",
       "Roi.X1                                  5\n",
       "Roi.Y1                                  6\n",
       "Roi.X2                                 38\n",
       "Roi.Y2                                 36\n",
       "ClassId                                20\n",
       "Path       Train/20/00020_00003_00010.png\n",
       "Name: 100, dtype: object"
      ]
     },
     "execution_count": 113,
     "metadata": {},
     "output_type": "execute_result"
    }
   ],
   "source": [
    "train_df.iloc[100]"
   ]
  },
  {
   "cell_type": "code",
   "execution_count": 117,
   "metadata": {},
   "outputs": [
    {
     "data": {
      "text/plain": [
       "16"
      ]
     },
     "execution_count": 117,
     "metadata": {},
     "output_type": "execute_result"
    }
   ],
   "source": [
    "list(train_labels[100]).index(1.)"
   ]
  },
  {
   "cell_type": "code",
   "execution_count": 110,
   "metadata": {},
   "outputs": [
    {
     "data": {
      "image/png": "[encoded data removed]",
      "text/plain": [
       "<PIL.Image.Image image mode=RGB size=64x64 at 0x1DD1D4B10>"
      ]
     },
     "execution_count": 110,
     "metadata": {},
     "output_type": "execute_result"
    }
   ],
   "source": [
    "array_to_img(train_images[100])"
   ]
  },
  {
   "cell_type": "markdown",
   "metadata": {},
   "source": [
    "Test images match test labels;"
   ]
  },
  {
   "cell_type": "code",
   "execution_count": 118,
   "metadata": {},
   "outputs": [],
   "source": [
    "# #  properly sequencing label names\n",
    "# path_test = [int(i.replace('Test/','').replace('.png','')) for i in test_df['Path']]\n",
    "# id_test = list(test_df['ClassId'])\n",
    "# path_id = dict(zip(path_test, id_test))\n",
    "# labels = [path_id[batch] for batch in list(test_generator.index_array)]\n",
    "# labels_numpy = np.array(labels)"
   ]
  },
  {
   "cell_type": "code",
   "execution_count": 119,
   "metadata": {},
   "outputs": [],
   "source": [
    "# print(labels_numpy[35])\n",
    "# array_to_img(test_images[35])\n"
   ]
  },
  {
   "cell_type": "code",
   "execution_count": 120,
   "metadata": {},
   "outputs": [],
   "source": [
    "# def to_one_hot(labels, dimension=43):\n",
    "#     labels = labels.astype('int32')\n",
    "#     results = np.zeros((len(labels), dimension))\n",
    "#     for i, label in enumerate(labels):\n",
    "#         results[i, label] = 1.\n",
    "#     return results\n",
    "\n",
    "# # Our vectorized training labels\n",
    "# one_hot_train_labels = to_one_hot(train_labels)\n",
    "# # Our vectorized test labels\n",
    "# one_hot_test_labels = to_one_hot(test_labels)"
   ]
  },
  {
   "cell_type": "code",
   "execution_count": 121,
   "metadata": {},
   "outputs": [
    {
     "data": {
      "text/plain": [
       "(39209, 43)"
      ]
     },
     "execution_count": 121,
     "metadata": {},
     "output_type": "execute_result"
    }
   ],
   "source": [
    "# one_hot_train_labels.shape"
   ]
  },
  {
   "cell_type": "code",
   "execution_count": 122,
   "metadata": {},
   "outputs": [
    {
     "data": {
      "text/plain": [
       "(12630, 43)"
      ]
     },
     "execution_count": 122,
     "metadata": {},
     "output_type": "execute_result"
    }
   ],
   "source": [
    "# one_hot_test_labels.shape"
   ]
  },
  {
   "cell_type": "code",
   "execution_count": 123,
   "metadata": {},
   "outputs": [
    {
     "data": {
      "text/plain": [
       "array([0., 0., 0., 0., 0., 0., 0., 0., 0., 0., 0., 0., 0., 0., 1., 0., 0.,\n",
       "       0., 0., 0., 0., 0., 0., 0., 0., 0., 0., 0., 0., 0., 0., 0., 0., 0.,\n",
       "       0., 0., 0., 0., 0., 0., 0., 0., 0.], dtype=float32)"
      ]
     },
     "execution_count": 123,
     "metadata": {},
     "output_type": "execute_result"
    }
   ],
   "source": [
    "train_labels[0]"
   ]
  },
  {
   "cell_type": "markdown",
   "metadata": {},
   "source": [
    "### Network Design\n",
    "### 1st model implementing Keras Sequential model"
   ]
  },
  {
   "cell_type": "code",
   "execution_count": 142,
   "metadata": {},
   "outputs": [],
   "source": [
    "# implemented without tuning such as dropout or padding data\n",
    "model = models.Sequential()\n",
    "model.add(layers.Conv2D(64, (3, 3), activation='relu', input_shape=(64, 64, 3)))\n",
    "model.add(layers.MaxPooling2D((2, 2)))\n",
    "model.add(layers.Conv2D(128, (3, 3), activation='relu'))\n",
    "model.add(layers.MaxPooling2D((2, 2)))\n",
    "model.add(layers.Conv2D(128, (3, 3), activation='relu'))\n",
    "model.add(layers.MaxPooling2D((2, 2)))\n",
    "model.add(layers.Flatten())\n",
    "model.add(layers.Dense(64, activation='relu'))\n",
    "model.add(layers.Dense(43, activation='softmax'))\n"
   ]
  },
  {
   "cell_type": "code",
   "execution_count": 143,
   "metadata": {},
   "outputs": [
    {
     "name": "stdout",
     "output_type": "stream",
     "text": [
      "Model: \"sequential_2\"\n",
      "_________________________________________________________________\n",
      "Layer (type)                 Output Shape              Param #   \n",
      "=================================================================\n",
      "conv2d_4 (Conv2D)            (None, 62, 62, 64)        1792      \n",
      "_________________________________________________________________\n",
      "max_pooling2d_4 (MaxPooling2 (None, 31, 31, 64)        0         \n",
      "_________________________________________________________________\n",
      "conv2d_5 (Conv2D)            (None, 29, 29, 128)       73856     \n",
      "_________________________________________________________________\n",
      "max_pooling2d_5 (MaxPooling2 (None, 14, 14, 128)       0         \n",
      "_________________________________________________________________\n",
      "conv2d_6 (Conv2D)            (None, 12, 12, 128)       147584    \n",
      "_________________________________________________________________\n",
      "max_pooling2d_6 (MaxPooling2 (None, 6, 6, 128)         0         \n",
      "_________________________________________________________________\n",
      "flatten_2 (Flatten)          (None, 4608)              0         \n",
      "_________________________________________________________________\n",
      "dense_3 (Dense)              (None, 64)                294976    \n",
      "_________________________________________________________________\n",
      "dense_4 (Dense)              (None, 43)                2795      \n",
      "=================================================================\n",
      "Total params: 521,003\n",
      "Trainable params: 521,003\n",
      "Non-trainable params: 0\n",
      "_________________________________________________________________\n"
     ]
    }
   ],
   "source": [
    "model.summary()"
   ]
  },
  {
   "cell_type": "markdown",
   "metadata": {},
   "source": [
    "### Training first model\n",
    "Optimized using rmsprop"
   ]
  },
  {
   "cell_type": "code",
   "execution_count": 131,
   "metadata": {},
   "outputs": [
    {
     "name": "stdout",
     "output_type": "stream",
     "text": [
      "Epoch 1/5\n",
      "39209/39209 [==============================] - 412s 11ms/step - loss: 12303521.0647 - accuracy: 0.4617\n",
      "Epoch 2/5\n",
      "39209/39209 [==============================] - 416s 11ms/step - loss: 127552680.2070 - accuracy: 0.4480\n",
      "Epoch 3/5\n",
      "39209/39209 [==============================] - 351s 9ms/step - loss: 530290101.1828 - accuracy: 0.4587\n",
      "Epoch 4/5\n",
      "39209/39209 [==============================] - 336s 9ms/step - loss: 1494800323.7021 - accuracy: 0.4732\n",
      "Epoch 5/5\n",
      "39209/39209 [==============================] - 511s 13ms/step - loss: 3406941958.7050 - accuracy: 0.4771\n"
     ]
    },
    {
     "data": {
      "text/plain": [
       "<keras.callbacks.callbacks.History at 0x1de98bed0>"
      ]
     },
     "execution_count": 131,
     "metadata": {},
     "output_type": "execute_result"
    }
   ],
   "source": [
    "model.compile(optimizer='rmsprop',\n",
    "              loss='categorical_crossentropy',\n",
    "              metrics=['accuracy'])\n",
    "model.fit(train_images, one_hot_train_labels, epochs=5, batch_size=500)"
   ]
  },
  {
   "cell_type": "code",
   "execution_count": 132,
   "metadata": {},
   "outputs": [
    {
     "name": "stdout",
     "output_type": "stream",
     "text": [
      "12630/12630 [==============================] - 34s 3ms/step\n"
     ]
    }
   ],
   "source": [
    "test_loss, test_acc = model.evaluate(test_images, one_hot_test_labels)"
   ]
  },
  {
   "cell_type": "code",
   "execution_count": 133,
   "metadata": {},
   "outputs": [
    {
     "data": {
      "text/plain": [
       "0.0"
      ]
     },
     "execution_count": 133,
     "metadata": {},
     "output_type": "execute_result"
    }
   ],
   "source": [
    "test_acc"
   ]
  },
  {
   "cell_type": "code",
   "execution_count": 22,
   "metadata": {},
   "outputs": [],
   "source": [
    "from keras.models import load_model\n",
    "model.save('rmsprop_mod_1.h5')\n",
    "# my_model = load_model('file_name_0f_your_model.h5')\n",
    "\n",
    "# make predictions using your model \n",
    "# my_prediction = my_model.predict(x_test)"
   ]
  },
  {
   "cell_type": "markdown",
   "metadata": {},
   "source": [
    "The poor accuracy resulted from using the wrong label set. \n",
    "Running a second model, this time using \"Adam\" as the optimizer."
   ]
  },
  {
   "cell_type": "markdown",
   "metadata": {},
   "source": [
    "### Second Model compiled using 'adam' optimizer"
   ]
  },
  {
   "cell_type": "code",
   "execution_count": 144,
   "metadata": {},
   "outputs": [
    {
     "name": "stdout",
     "output_type": "stream",
     "text": [
      "Epoch 1/5\n",
      "39209/39209 [==============================] - 374s 10ms/step - loss: 2.7031 - accuracy: 0.3142\n",
      "Epoch 2/5\n",
      "39209/39209 [==============================] - 352s 9ms/step - loss: 0.7538 - accuracy: 0.7837\n",
      "Epoch 3/5\n",
      "39209/39209 [==============================] - 420s 11ms/step - loss: 0.2394 - accuracy: 0.9368\n",
      "Epoch 4/5\n",
      "39209/39209 [==============================] - 414s 11ms/step - loss: 0.1329 - accuracy: 0.9657\n",
      "Epoch 5/5\n",
      "39209/39209 [==============================] - 400s 10ms/step - loss: 0.0816 - accuracy: 0.9798\n"
     ]
    },
    {
     "data": {
      "text/plain": [
       "<keras.callbacks.callbacks.History at 0x1df26b390>"
      ]
     },
     "execution_count": 144,
     "metadata": {},
     "output_type": "execute_result"
    }
   ],
   "source": [
    "# second model using adam\n",
    "model.compile(optimizer='adam',\n",
    "              loss='categorical_crossentropy',\n",
    "              metrics=['accuracy'])\n",
    "model.fit(train_images, train_labels, epochs=5, batch_size=500)"
   ]
  },
  {
   "cell_type": "code",
   "execution_count": 146,
   "metadata": {},
   "outputs": [
    {
     "name": "stdout",
     "output_type": "stream",
     "text": [
      "12630/12630 [==============================] - 35s 3ms/step\n",
      "0.47693141494138036\n",
      "0.9054631590843201\n"
     ]
    }
   ],
   "source": [
    "test_loss, test_acc = model.evaluate(test_images, test_labels)\n",
    "print(test_loss)\n",
    "print(test_acc)"
   ]
  },
  {
   "cell_type": "code",
   "execution_count": 147,
   "metadata": {},
   "outputs": [],
   "source": [
    "model.save('adam_mod_1.h5')"
   ]
  },
  {
   "cell_type": "markdown",
   "metadata": {},
   "source": [
    "### Predictions- second model"
   ]
  },
  {
   "cell_type": "code",
   "execution_count": 150,
   "metadata": {},
   "outputs": [],
   "source": [
    "from keras.models import load_model"
   ]
  },
  {
   "cell_type": "code",
   "execution_count": 191,
   "metadata": {},
   "outputs": [],
   "source": [
    " my_model = load_model('adam_mod_1.h5')\n",
    "# make predictions using your model \n",
    " my_prediction = my_model.predict(test_images)"
   ]
  },
  {
   "cell_type": "code",
   "execution_count": 192,
   "metadata": {},
   "outputs": [
    {
     "data": {
      "text/plain": [
       "array([[0.0000000e+00, 4.2077037e-36, 3.6618818e-38, ..., 3.7774335e-29,\n",
       "        3.6172395e-34, 4.9094271e-20],\n",
       "       [4.3449734e-18, 2.3209915e-17, 8.5943519e-13, ..., 1.4547279e-19,\n",
       "        7.4893244e-13, 1.9990798e-10],\n",
       "       [1.6157329e-18, 1.1970322e-13, 1.2077078e-09, ..., 1.1161073e-18,\n",
       "        1.6610862e-11, 6.4096645e-07],\n",
       "       ...,\n",
       "       [1.4930434e-13, 1.7897577e-08, 2.0506158e-02, ..., 7.6469791e-23,\n",
       "        5.5427982e-22, 1.4325473e-20],\n",
       "       [6.3589619e-06, 2.7764793e-03, 1.5034620e-04, ..., 1.5868594e-06,\n",
       "        2.0899591e-08, 3.3003136e-08],\n",
       "       [1.5778490e-10, 4.7968376e-07, 2.3314721e-04, ..., 1.1672752e-15,\n",
       "        1.2216923e-11, 1.3521096e-11]], dtype=float32)"
      ]
     },
     "execution_count": 192,
     "metadata": {},
     "output_type": "execute_result"
    }
   ],
   "source": [
    "my_prediction"
   ]
  },
  {
   "cell_type": "markdown",
   "metadata": {},
   "source": [
    "Checking F-1 score for balance between Precision and Recall"
   ]
  },
  {
   "cell_type": "code",
   "execution_count": 190,
   "metadata": {},
   "outputs": [
    {
     "name": "stdout",
     "output_type": "stream",
     "text": [
      "f1 score: 0.9071288161431379\n"
     ]
    }
   ],
   "source": [
    "from sklearn.metrics import accuracy_score, confusion_matrix, classification_report, f1_score\n",
    "# predictions_transfer = model.predict(test_images)\n",
    "my_prediction = np.around(my_prediction)\n",
    "f1_score = f1_score(test_labels, my_prediction, average='micro')\n",
    "print('f1 score: {}'.format(f1_score))"
   ]
  },
  {
   "cell_type": "code",
   "execution_count": 186,
   "metadata": {},
   "outputs": [
    {
     "data": {
      "image/png": "[encoded data removed]",
      "text/plain": [
       "<PIL.Image.Image image mode=RGB size=64x64 at 0x140E7EED0>"
      ]
     },
     "execution_count": 186,
     "metadata": {},
     "output_type": "execute_result"
    }
   ],
   "source": [
    "array_to_img(test_images[3])"
   ]
  },
  {
   "cell_type": "markdown",
   "metadata": {},
   "source": [
    "Converting my_prediction array into a list of predictions for each image:"
   ]
  },
  {
   "cell_type": "raw",
   "metadata": {},
   "source": [
    "prob_list = [np.argmax(i) for i in list(my_prediction)]\n",
    "prob_list"
   ]
  },
  {
   "cell_type": "code",
   "execution_count": 193,
   "metadata": {},
   "outputs": [],
   "source": [
    "# test_prob = [np.argmax(i) for i in list(test_labels)]\n",
    "# test_prob"
   ]
  },
  {
   "cell_type": "code",
   "execution_count": 176,
   "metadata": {},
   "outputs": [
    {
     "data": {
      "text/plain": [
       "[6,\n",
       " 9,\n",
       " 16,\n",
       " 17,\n",
       " 21,\n",
       " 30,\n",
       " 33,\n",
       " 37,\n",
       " 41,\n",
       " 53,\n",
       " 65,\n",
       " 69,\n",
       " 84,\n",
       " 91,\n",
       " 94,\n",
       " 100,\n",
       " 109,\n",
       " 120,\n",
       " 136,\n",
       " 138,\n",
       " 147,\n",
       " 167,\n",
       " 169,\n",
       " 173,\n",
       " 174,\n",
       " 180,\n",
       " 187,\n",
       " 213,\n",
       " 218,\n",
       " 227,\n",
       " 241,\n",
       " 245,\n",
       " 249,\n",
       " 272,\n",
       " 275,\n",
       " 307,\n",
       " 336,\n",
       " 337,\n",
       " 342,\n",
       " 343,\n",
       " 361,\n",
       " 410,\n",
       " 437,\n",
       " 439,\n",
       " 446,\n",
       " 447,\n",
       " 459,\n",
       " 462,\n",
       " 467,\n",
       " 470,\n",
       " 477,\n",
       " 511,\n",
       " 523,\n",
       " 526,\n",
       " 534,\n",
       " 543,\n",
       " 546,\n",
       " 553,\n",
       " 556,\n",
       " 567,\n",
       " 568,\n",
       " 573,\n",
       " 588,\n",
       " 594,\n",
       " 612,\n",
       " 637,\n",
       " 639,\n",
       " 641,\n",
       " 646,\n",
       " 718,\n",
       " 733,\n",
       " 758,\n",
       " 768,\n",
       " 773,\n",
       " 774,\n",
       " 801,\n",
       " 814,\n",
       " 822,\n",
       " 835,\n",
       " 849,\n",
       " 860,\n",
       " 903,\n",
       " 913,\n",
       " 914,\n",
       " 918,\n",
       " 920,\n",
       " 924,\n",
       " 943,\n",
       " 959,\n",
       " 966,\n",
       " 978,\n",
       " 997,\n",
       " 999,\n",
       " 1007,\n",
       " 1046,\n",
       " 1066,\n",
       " 1076,\n",
       " 1080,\n",
       " 1116,\n",
       " 1149,\n",
       " 1156,\n",
       " 1163,\n",
       " 1178,\n",
       " 1193,\n",
       " 1204,\n",
       " 1226,\n",
       " 1227,\n",
       " 1260,\n",
       " 1274,\n",
       " 1275,\n",
       " 1280,\n",
       " 1296,\n",
       " 1297,\n",
       " 1328,\n",
       " 1346,\n",
       " 1349,\n",
       " 1353,\n",
       " 1371,\n",
       " 1377,\n",
       " 1385,\n",
       " 1393,\n",
       " 1394,\n",
       " 1396,\n",
       " 1399,\n",
       " 1400,\n",
       " 1402,\n",
       " 1403,\n",
       " 1413,\n",
       " 1416,\n",
       " 1421,\n",
       " 1425,\n",
       " 1472,\n",
       " 1474,\n",
       " 1481,\n",
       " 1506,\n",
       " 1507,\n",
       " 1524,\n",
       " 1532,\n",
       " 1548,\n",
       " 1553,\n",
       " 1554,\n",
       " 1560,\n",
       " 1582,\n",
       " 1595,\n",
       " 1613,\n",
       " 1616,\n",
       " 1631,\n",
       " 1644,\n",
       " 1647,\n",
       " 1659,\n",
       " 1672,\n",
       " 1676,\n",
       " 1684,\n",
       " 1685,\n",
       " 1713,\n",
       " 1719,\n",
       " 1729,\n",
       " 1740,\n",
       " 1742,\n",
       " 1758,\n",
       " 1762,\n",
       " 1768,\n",
       " 1773,\n",
       " 1790,\n",
       " 1792,\n",
       " 1796,\n",
       " 1800,\n",
       " 1812,\n",
       " 1850,\n",
       " 1854,\n",
       " 1855,\n",
       " 1866,\n",
       " 1871,\n",
       " 1875,\n",
       " 1879,\n",
       " 1885,\n",
       " 1891,\n",
       " 1894,\n",
       " 1915,\n",
       " 1924,\n",
       " 1965,\n",
       " 1966,\n",
       " 1969,\n",
       " 1970,\n",
       " 1974,\n",
       " 1980,\n",
       " 1985,\n",
       " 1987,\n",
       " 2040,\n",
       " 2061,\n",
       " 2073,\n",
       " 2077,\n",
       " 2086,\n",
       " 2090,\n",
       " 2096,\n",
       " 2102,\n",
       " 2103,\n",
       " 2113,\n",
       " 2120,\n",
       " 2131,\n",
       " 2137,\n",
       " 2147,\n",
       " 2158,\n",
       " 2168,\n",
       " 2178,\n",
       " 2180,\n",
       " 2192,\n",
       " 2198,\n",
       " 2226,\n",
       " 2241,\n",
       " 2250,\n",
       " 2258,\n",
       " 2269,\n",
       " 2282,\n",
       " 2310,\n",
       " 2312,\n",
       " 2315,\n",
       " 2319,\n",
       " 2320,\n",
       " 2326,\n",
       " 2335,\n",
       " 2350,\n",
       " 2352,\n",
       " 2355,\n",
       " 2360,\n",
       " 2361,\n",
       " 2367,\n",
       " 2375,\n",
       " 2390,\n",
       " 2405,\n",
       " 2431,\n",
       " 2451,\n",
       " 2455,\n",
       " 2468,\n",
       " 2480,\n",
       " 2494,\n",
       " 2508,\n",
       " 2509,\n",
       " 2511,\n",
       " 2523,\n",
       " 2529,\n",
       " 2537,\n",
       " 2539,\n",
       " 2541,\n",
       " 2557,\n",
       " 2574,\n",
       " 2578,\n",
       " 2584,\n",
       " 2595,\n",
       " 2651,\n",
       " 2657,\n",
       " 2663,\n",
       " 2665,\n",
       " 2668,\n",
       " 2675,\n",
       " 2676,\n",
       " 2693,\n",
       " 2694,\n",
       " 2701,\n",
       " 2713,\n",
       " 2745,\n",
       " 2749,\n",
       " 2760,\n",
       " 2761,\n",
       " 2768,\n",
       " 2775,\n",
       " 2778,\n",
       " 2780,\n",
       " 2787,\n",
       " 2796,\n",
       " 2813,\n",
       " 2832,\n",
       " 2833,\n",
       " 2834,\n",
       " 2836,\n",
       " 2861,\n",
       " 2864,\n",
       " 2866,\n",
       " 2908,\n",
       " 2914,\n",
       " 2924,\n",
       " 2925,\n",
       " 2938,\n",
       " 2940,\n",
       " 2982,\n",
       " 2988,\n",
       " 3013,\n",
       " 3019,\n",
       " 3021,\n",
       " 3028,\n",
       " 3041,\n",
       " 3048,\n",
       " 3053,\n",
       " 3082,\n",
       " 3095,\n",
       " 3098,\n",
       " 3113,\n",
       " 3135,\n",
       " 3136,\n",
       " 3144,\n",
       " 3171,\n",
       " 3172,\n",
       " 3196,\n",
       " 3245,\n",
       " 3249,\n",
       " 3292,\n",
       " 3294,\n",
       " 3300,\n",
       " 3308,\n",
       " 3310,\n",
       " 3325,\n",
       " 3328,\n",
       " 3329,\n",
       " 3333,\n",
       " 3340,\n",
       " 3341,\n",
       " 3350,\n",
       " 3385,\n",
       " 3395,\n",
       " 3396,\n",
       " 3420,\n",
       " 3423,\n",
       " 3424,\n",
       " 3438,\n",
       " 3443,\n",
       " 3450,\n",
       " 3451,\n",
       " 3454,\n",
       " 3457,\n",
       " 3482,\n",
       " 3510,\n",
       " 3523,\n",
       " 3543,\n",
       " 3549,\n",
       " 3550,\n",
       " 3556,\n",
       " 3567,\n",
       " 3583,\n",
       " 3584,\n",
       " 3593,\n",
       " 3628,\n",
       " 3629,\n",
       " 3653,\n",
       " 3674,\n",
       " 3687,\n",
       " 3699,\n",
       " 3706,\n",
       " 3728,\n",
       " 3731,\n",
       " 3740,\n",
       " 3775,\n",
       " 3786,\n",
       " 3817,\n",
       " 3822,\n",
       " 3828,\n",
       " 3833,\n",
       " 3837,\n",
       " 3856,\n",
       " 3864,\n",
       " 3867,\n",
       " 3886,\n",
       " 3900,\n",
       " 3902,\n",
       " 3903,\n",
       " 3911,\n",
       " 3923,\n",
       " 3924,\n",
       " 3928,\n",
       " 3932,\n",
       " 3960,\n",
       " 3965,\n",
       " 3968,\n",
       " 3969,\n",
       " 3975,\n",
       " 3985,\n",
       " 4007,\n",
       " 4018,\n",
       " 4025,\n",
       " 4026,\n",
       " 4027,\n",
       " 4031,\n",
       " 4042,\n",
       " 4050,\n",
       " 4068,\n",
       " 4133,\n",
       " 4137,\n",
       " 4163,\n",
       " 4171,\n",
       " 4198,\n",
       " 4201,\n",
       " 4206,\n",
       " 4211,\n",
       " 4226,\n",
       " 4247,\n",
       " 4253,\n",
       " 4257,\n",
       " 4261,\n",
       " 4263,\n",
       " 4273,\n",
       " 4313,\n",
       " 4316,\n",
       " 4324,\n",
       " 4350,\n",
       " 4365,\n",
       " 4369,\n",
       " 4372,\n",
       " 4375,\n",
       " 4391,\n",
       " 4407,\n",
       " 4419,\n",
       " 4436,\n",
       " 4438,\n",
       " 4455,\n",
       " 4459,\n",
       " 4460,\n",
       " 4480,\n",
       " 4501,\n",
       " 4521,\n",
       " 4535,\n",
       " 4545,\n",
       " 4586,\n",
       " 4616,\n",
       " 4617,\n",
       " 4623,\n",
       " 4628,\n",
       " 4632,\n",
       " 4634,\n",
       " 4665,\n",
       " 4672,\n",
       " 4682,\n",
       " 4684,\n",
       " 4700,\n",
       " 4705,\n",
       " 4719,\n",
       " 4724,\n",
       " 4735,\n",
       " 4744,\n",
       " 4747,\n",
       " 4751,\n",
       " 4761,\n",
       " 4781,\n",
       " 4789,\n",
       " 4797,\n",
       " 4800,\n",
       " 4815,\n",
       " 4820,\n",
       " 4824,\n",
       " 4836,\n",
       " 4840,\n",
       " 4858,\n",
       " 4888,\n",
       " 4897,\n",
       " 4900,\n",
       " 4917,\n",
       " 4926,\n",
       " 4928,\n",
       " 4956,\n",
       " 4969,\n",
       " 4973,\n",
       " 4980,\n",
       " 4990,\n",
       " 4994,\n",
       " 4997,\n",
       " 5008,\n",
       " 5033,\n",
       " 5053,\n",
       " 5069,\n",
       " 5070,\n",
       " 5072,\n",
       " 5083,\n",
       " 5084,\n",
       " 5088,\n",
       " 5089,\n",
       " 5093,\n",
       " 5104,\n",
       " 5136,\n",
       " 5159,\n",
       " 5167,\n",
       " 5168,\n",
       " 5186,\n",
       " 5190,\n",
       " 5195,\n",
       " 5202,\n",
       " 5209,\n",
       " 5224,\n",
       " 5226,\n",
       " 5232,\n",
       " 5233,\n",
       " 5249,\n",
       " 5280,\n",
       " 5283,\n",
       " 5284,\n",
       " 5285,\n",
       " 5287,\n",
       " 5292,\n",
       " 5308,\n",
       " 5310,\n",
       " 5321,\n",
       " 5344,\n",
       " 5345,\n",
       " 5350,\n",
       " 5351,\n",
       " 5352,\n",
       " 5356,\n",
       " 5358,\n",
       " 5375,\n",
       " 5397,\n",
       " 5399,\n",
       " 5415,\n",
       " 5427,\n",
       " 5428,\n",
       " 5435,\n",
       " 5439,\n",
       " 5441,\n",
       " 5442,\n",
       " 5454,\n",
       " 5465,\n",
       " 5469,\n",
       " 5474,\n",
       " 5477,\n",
       " 5513,\n",
       " 5520,\n",
       " 5534,\n",
       " 5535,\n",
       " 5544,\n",
       " 5557,\n",
       " 5568,\n",
       " 5596,\n",
       " 5611,\n",
       " 5617,\n",
       " 5640,\n",
       " 5653,\n",
       " 5671,\n",
       " 5675,\n",
       " 5678,\n",
       " 5685,\n",
       " 5735,\n",
       " 5738,\n",
       " 5749,\n",
       " 5754,\n",
       " 5755,\n",
       " 5765,\n",
       " 5780,\n",
       " 5787,\n",
       " 5792,\n",
       " 5800,\n",
       " 5806,\n",
       " 5827,\n",
       " 5833,\n",
       " 5839,\n",
       " 5841,\n",
       " 5844,\n",
       " 5850,\n",
       " 5854,\n",
       " 5860,\n",
       " 5865,\n",
       " 5873,\n",
       " 5879,\n",
       " 5883,\n",
       " 5902,\n",
       " 5916,\n",
       " 5920,\n",
       " 5959,\n",
       " 5968,\n",
       " 5978,\n",
       " 5998,\n",
       " 6015,\n",
       " 6026,\n",
       " 6040,\n",
       " 6059,\n",
       " 6088,\n",
       " 6096,\n",
       " 6105,\n",
       " 6129,\n",
       " 6130,\n",
       " 6148,\n",
       " 6156,\n",
       " 6160,\n",
       " 6172,\n",
       " 6177,\n",
       " 6182,\n",
       " 6185,\n",
       " 6199,\n",
       " 6203,\n",
       " 6222,\n",
       " 6224,\n",
       " 6229,\n",
       " 6230,\n",
       " 6252,\n",
       " 6270,\n",
       " 6289,\n",
       " 6292,\n",
       " 6296,\n",
       " 6312,\n",
       " 6342,\n",
       " 6345,\n",
       " 6373,\n",
       " 6408,\n",
       " 6439,\n",
       " 6452,\n",
       " 6454,\n",
       " 6503,\n",
       " 6505,\n",
       " 6518,\n",
       " 6523,\n",
       " 6530,\n",
       " 6533,\n",
       " 6554,\n",
       " 6558,\n",
       " 6580,\n",
       " 6593,\n",
       " 6598,\n",
       " 6605,\n",
       " 6606,\n",
       " 6608,\n",
       " 6618,\n",
       " 6619,\n",
       " 6636,\n",
       " 6641,\n",
       " 6673,\n",
       " 6714,\n",
       " 6723,\n",
       " 6734,\n",
       " 6738,\n",
       " 6741,\n",
       " 6760,\n",
       " 6763,\n",
       " 6775,\n",
       " 6795,\n",
       " 6798,\n",
       " 6813,\n",
       " 6831,\n",
       " 6833,\n",
       " 6835,\n",
       " 6837,\n",
       " 6845,\n",
       " 6850,\n",
       " 6858,\n",
       " 6868,\n",
       " 6872,\n",
       " 6875,\n",
       " 6880,\n",
       " 6885,\n",
       " 6887,\n",
       " 6889,\n",
       " 6891,\n",
       " 6892,\n",
       " 6907,\n",
       " 6916,\n",
       " 6917,\n",
       " 6922,\n",
       " 6939,\n",
       " 6968,\n",
       " 6984,\n",
       " 6998,\n",
       " 7020,\n",
       " 7042,\n",
       " 7045,\n",
       " 7046,\n",
       " 7054,\n",
       " 7059,\n",
       " 7062,\n",
       " 7064,\n",
       " 7070,\n",
       " 7074,\n",
       " 7110,\n",
       " 7111,\n",
       " 7136,\n",
       " 7155,\n",
       " 7177,\n",
       " 7200,\n",
       " 7202,\n",
       " 7206,\n",
       " 7209,\n",
       " 7211,\n",
       " 7214,\n",
       " 7227,\n",
       " 7242,\n",
       " 7266,\n",
       " 7290,\n",
       " 7304,\n",
       " 7315,\n",
       " 7339,\n",
       " 7347,\n",
       " 7353,\n",
       " 7358,\n",
       " 7359,\n",
       " 7360,\n",
       " 7363,\n",
       " 7381,\n",
       " 7390,\n",
       " 7406,\n",
       " 7407,\n",
       " 7410,\n",
       " 7415,\n",
       " 7431,\n",
       " 7439,\n",
       " 7444,\n",
       " 7455,\n",
       " 7463,\n",
       " 7479,\n",
       " 7486,\n",
       " 7516,\n",
       " 7522,\n",
       " 7549,\n",
       " 7551,\n",
       " 7558,\n",
       " 7560,\n",
       " 7575,\n",
       " 7600,\n",
       " 7605,\n",
       " 7610,\n",
       " 7612,\n",
       " 7623,\n",
       " 7627,\n",
       " 7632,\n",
       " 7633,\n",
       " 7651,\n",
       " 7671,\n",
       " 7688,\n",
       " 7700,\n",
       " 7701,\n",
       " 7710,\n",
       " 7714,\n",
       " 7725,\n",
       " 7731,\n",
       " 7737,\n",
       " 7746,\n",
       " 7751,\n",
       " 7756,\n",
       " 7757,\n",
       " 7773,\n",
       " 7782,\n",
       " 7785,\n",
       " 7795,\n",
       " 7829,\n",
       " 7833,\n",
       " 7841,\n",
       " 7845,\n",
       " 7848,\n",
       " 7871,\n",
       " 7874,\n",
       " 7887,\n",
       " 7899,\n",
       " 7902,\n",
       " 7912,\n",
       " 7926,\n",
       " 7939,\n",
       " 7942,\n",
       " 7943,\n",
       " 7947,\n",
       " 7949,\n",
       " 7951,\n",
       " 7964,\n",
       " 7970,\n",
       " 7976,\n",
       " 8001,\n",
       " 8012,\n",
       " 8018,\n",
       " 8021,\n",
       " 8039,\n",
       " 8040,\n",
       " 8055,\n",
       " 8056,\n",
       " 8063,\n",
       " 8065,\n",
       " 8082,\n",
       " 8106,\n",
       " 8145,\n",
       " 8148,\n",
       " 8161,\n",
       " 8164,\n",
       " 8182,\n",
       " 8207,\n",
       " 8208,\n",
       " 8210,\n",
       " 8214,\n",
       " 8217,\n",
       " 8226,\n",
       " 8240,\n",
       " 8259,\n",
       " 8262,\n",
       " 8275,\n",
       " 8285,\n",
       " 8287,\n",
       " 8289,\n",
       " 8294,\n",
       " 8308,\n",
       " 8321,\n",
       " 8329,\n",
       " 8332,\n",
       " 8333,\n",
       " 8360,\n",
       " 8374,\n",
       " 8375,\n",
       " 8394,\n",
       " 8401,\n",
       " 8410,\n",
       " 8436,\n",
       " 8459,\n",
       " 8463,\n",
       " 8466,\n",
       " 8469,\n",
       " 8487,\n",
       " 8490,\n",
       " 8495,\n",
       " 8521,\n",
       " 8530,\n",
       " 8532,\n",
       " 8544,\n",
       " 8559,\n",
       " 8570,\n",
       " 8573,\n",
       " 8575,\n",
       " 8589,\n",
       " 8597,\n",
       " 8598,\n",
       " 8602,\n",
       " 8605,\n",
       " 8612,\n",
       " 8630,\n",
       " 8656,\n",
       " 8675,\n",
       " 8689,\n",
       " 8697,\n",
       " 8708,\n",
       " 8713,\n",
       " 8730,\n",
       " 8738,\n",
       " 8758,\n",
       " 8765,\n",
       " 8773,\n",
       " 8780,\n",
       " 8795,\n",
       " 8825,\n",
       " 8827,\n",
       " 8832,\n",
       " 8833,\n",
       " 8835,\n",
       " 8857,\n",
       " 8862,\n",
       " 8882,\n",
       " 8891,\n",
       " 8900,\n",
       " 8912,\n",
       " 8919,\n",
       " 8928,\n",
       " 8932,\n",
       " 8937,\n",
       " 8957,\n",
       " 8958,\n",
       " 8963,\n",
       " 9009,\n",
       " 9010,\n",
       " 9023,\n",
       " 9031,\n",
       " 9041,\n",
       " 9043,\n",
       " 9044,\n",
       " 9072,\n",
       " 9112,\n",
       " 9113,\n",
       " 9116,\n",
       " 9123,\n",
       " 9138,\n",
       " 9166,\n",
       " 9175,\n",
       " 9203,\n",
       " 9204,\n",
       " 9207,\n",
       " 9214,\n",
       " 9234,\n",
       " 9240,\n",
       " 9262,\n",
       " 9283,\n",
       " 9295,\n",
       " 9334,\n",
       " 9337,\n",
       " 9341,\n",
       " 9356,\n",
       " 9363,\n",
       " 9367,\n",
       " 9373,\n",
       " 9375,\n",
       " 9393,\n",
       " 9400,\n",
       " 9401,\n",
       " 9408,\n",
       " 9429,\n",
       " 9438,\n",
       " 9458,\n",
       " 9459,\n",
       " 9460,\n",
       " 9461,\n",
       " 9468,\n",
       " 9470,\n",
       " 9475,\n",
       " 9486,\n",
       " 9498,\n",
       " 9505,\n",
       " 9508,\n",
       " 9512,\n",
       " 9513,\n",
       " 9524,\n",
       " 9529,\n",
       " 9530,\n",
       " 9541,\n",
       " 9542,\n",
       " 9546,\n",
       " 9574,\n",
       " 9584,\n",
       " 9594,\n",
       " 9599,\n",
       " 9602,\n",
       " 9634,\n",
       " 9640,\n",
       " 9644,\n",
       " 9658,\n",
       " 9676,\n",
       " 9678,\n",
       " 9680,\n",
       " 9689,\n",
       " 9697,\n",
       " 9698,\n",
       " 9700,\n",
       " 9737,\n",
       " 9741,\n",
       " 9753,\n",
       " 9760,\n",
       " 9762,\n",
       " 9766,\n",
       " 9781,\n",
       " 9785,\n",
       " 9792,\n",
       " 9804,\n",
       " 9806,\n",
       " 9815,\n",
       " 9822,\n",
       " 9830,\n",
       " 9869,\n",
       " 9887,\n",
       " 9889,\n",
       " 9902,\n",
       " 9905,\n",
       " 9906,\n",
       " 9913,\n",
       " 9919,\n",
       " 9920,\n",
       " 9924,\n",
       " 9949,\n",
       " 9961,\n",
       " 9982,\n",
       " 10002,\n",
       " 10006,\n",
       " 10014,\n",
       " 10034,\n",
       " 10062,\n",
       " 10064,\n",
       " 10070,\n",
       " 10077,\n",
       " 10088,\n",
       " 10101,\n",
       " 10115,\n",
       " 10120,\n",
       " 10127,\n",
       " 10136,\n",
       " 10143,\n",
       " 10144,\n",
       " 10155,\n",
       " 10160,\n",
       " 10161,\n",
       " 10162,\n",
       " 10165,\n",
       " 10191,\n",
       " 10202,\n",
       " 10211,\n",
       " 10217,\n",
       " 10219,\n",
       " 10224,\n",
       " 10231,\n",
       " 10232,\n",
       " 10244,\n",
       " 10254,\n",
       " 10265,\n",
       " 10269,\n",
       " 10282,\n",
       " 10289,\n",
       " 10303,\n",
       " 10312,\n",
       " 10341,\n",
       " 10368,\n",
       " 10370,\n",
       " 10389,\n",
       " 10397,\n",
       " 10411,\n",
       " 10426,\n",
       " 10436,\n",
       " 10440,\n",
       " 10449,\n",
       " 10465,\n",
       " ...]"
      ]
     },
     "execution_count": 176,
     "metadata": {},
     "output_type": "execute_result"
    }
   ],
   "source": [
    "wrong_preds = []\n",
    "for i in range(len(test_labels)):\n",
    "    if np.argmax(test_labels[i]) ==  np.argmax(my_prediction[i]):\n",
    "        continue\n",
    "    else:\n",
    "        wrong_preds.append(i)\n",
    "\n",
    "wrong_preds"
   ]
  },
  {
   "cell_type": "code",
   "execution_count": 189,
   "metadata": {},
   "outputs": [
    {
     "data": {
      "image/png": "[encoded data removed]",
      "text/plain": [
       "<PIL.Image.Image image mode=RGB size=64x64 at 0x1DC51D7D0>"
      ]
     },
     "execution_count": 189,
     "metadata": {},
     "output_type": "execute_result"
    }
   ],
   "source": [
    "array_to_img(test_images[6])"
   ]
  },
  {
   "cell_type": "markdown",
   "metadata": {},
   "source": [
    "### Third model- after tuning using padding and adding dropouts "
   ]
  },
  {
   "cell_type": "code",
   "execution_count": 207,
   "metadata": {},
   "outputs": [],
   "source": [
    "# implemented with tuning by adding dropouts between convolutions and padding data\n",
    "model = models.Sequential()\n",
    "\n",
    "# padding added to each convolution layer\n",
    "model.add(layers.Conv2D(32, (3, 3), padding='same', activation='relu', input_shape=(64, 64, 3)))\n",
    "\n",
    "# using dropout of .1\n",
    "model.add(layers.Dropout(0.1))\n",
    "model.add(layers.MaxPooling2D((2, 2)))\n",
    "model.add(layers.Conv2D(64, (3, 3), padding='same', activation='relu'))\n",
    "model.add(layers.Dropout(0.1))\n",
    "model.add(layers.MaxPooling2D((2, 2)))\n",
    "model.add(layers.Conv2D(64, (3, 3), padding='same', activation='relu'))\n",
    "model.add(layers.Dropout(0.1))\n",
    "model.add(layers.Flatten())\n",
    "model.add(layers.Dense(64, activation='relu'))\n",
    "model.add(layers.Dense(43, activation='softmax'))\n",
    "\n"
   ]
  },
  {
   "cell_type": "code",
   "execution_count": 210,
   "metadata": {},
   "outputs": [
    {
     "name": "stdout",
     "output_type": "stream",
     "text": [
      "Train on 36209 samples, validate on 3000 samples\n",
      "Epoch 1/5\n",
      "36209/36209 [==============================] - 238s 7ms/step - loss: 0.0822 - accuracy: 0.9788 - val_loss: 0.0548 - val_accuracy: 0.9880\n",
      "Epoch 2/5\n",
      "36209/36209 [==============================] - 239s 7ms/step - loss: 0.0268 - accuracy: 0.9928 - val_loss: 0.0556 - val_accuracy: 0.9867\n",
      "Epoch 3/5\n",
      "36209/36209 [==============================] - 265s 7ms/step - loss: 0.0229 - accuracy: 0.9931 - val_loss: 0.0423 - val_accuracy: 0.9887\n",
      "Epoch 4/5\n",
      "36209/36209 [==============================] - 276s 8ms/step - loss: 0.0131 - accuracy: 0.9963 - val_loss: 0.0365 - val_accuracy: 0.9910\n",
      "Epoch 5/5\n",
      "36209/36209 [==============================] - 229s 6ms/step - loss: 0.0181 - accuracy: 0.9948 - val_loss: 0.0551 - val_accuracy: 0.9847\n"
     ]
    }
   ],
   "source": [
    "# third model, 2nd using adam\n",
    "model.compile(optimizer='adam',\n",
    "              loss='categorical_crossentropy',\n",
    "              metrics=['accuracy'])\n",
    "x_val = train_images[:3000]\n",
    "partial_x_train = train_images[3000:]\n",
    "y_val = train_labels[:3000]\n",
    "partial_y_train = train_labels[3000:]\n",
    "history = model.fit(partial_x_train,\n",
    "                    partial_y_train,\n",
    "                    epochs=5,\n",
    "                    batch_size=500,\n",
    "                    validation_data=(x_val, y_val))"
   ]
  },
  {
   "cell_type": "code",
   "execution_count": 225,
   "metadata": {},
   "outputs": [
    {
     "name": "stdout",
     "output_type": "stream",
     "text": [
      "12630/12630 [==============================] - 16s 1ms/step\n",
      "0.6940762542070186\n",
      "Test accuracy: 0.8934283256530762\n"
     ]
    }
   ],
   "source": [
    "test_loss, test_acc = model.evaluate(test_images, test_labels)\n",
    "print(test_loss)\n",
    "print('Test accuracy: {}'.format(test_acc))"
   ]
  },
  {
   "cell_type": "code",
   "execution_count": 226,
   "metadata": {},
   "outputs": [],
   "source": [
    "model.save('adam_mod_2.h5')"
   ]
  },
  {
   "cell_type": "markdown",
   "metadata": {},
   "source": [
    "### Predictions for adam model 2"
   ]
  },
  {
   "cell_type": "code",
   "execution_count": 227,
   "metadata": {},
   "outputs": [],
   "source": [
    " my_model = load_model('adam_mod_2.h5')\n",
    "# make predictions using your model \n",
    " my_prediction = my_model.predict(test_images)"
   ]
  },
  {
   "cell_type": "code",
   "execution_count": 213,
   "metadata": {},
   "outputs": [
    {
     "data": {
      "text/plain": [
       "array([[3.05499447e-33, 1.29110576e-26, 1.11961734e-31, ...,\n",
       "        9.27711633e-22, 2.47681450e-18, 5.28752542e-18],\n",
       "       [4.35089631e-22, 2.61143685e-19, 2.30089266e-14, ...,\n",
       "        1.58135228e-17, 4.33178409e-15, 1.08744483e-15],\n",
       "       [5.38439447e-18, 3.68866092e-12, 1.75118953e-06, ...,\n",
       "        1.46516862e-14, 2.03945229e-11, 2.53593182e-08],\n",
       "       ...,\n",
       "       [1.05583192e-13, 5.69099455e-11, 1.07746244e-04, ...,\n",
       "        2.79698882e-17, 3.34640138e-21, 1.58022805e-13],\n",
       "       [5.30063069e-08, 4.99583984e-06, 4.88168212e-07, ...,\n",
       "        3.41639472e-09, 8.04371625e-14, 4.13564932e-10],\n",
       "       [4.10353262e-12, 3.15710736e-07, 1.85150132e-02, ...,\n",
       "        8.96639961e-18, 2.26282556e-12, 1.17551535e-09]], dtype=float32)"
      ]
     },
     "execution_count": 213,
     "metadata": {},
     "output_type": "execute_result"
    }
   ],
   "source": [
    "my_prediction"
   ]
  },
  {
   "cell_type": "code",
   "execution_count": 229,
   "metadata": {},
   "outputs": [
    {
     "ename": "TypeError",
     "evalue": "'numpy.float64' object is not callable",
     "output_type": "error",
     "traceback": [
      "\u001b[0;31m---------------------------------------------------------------------------\u001b[0m",
      "\u001b[0;31mTypeError\u001b[0m                                 Traceback (most recent call last)",
      "\u001b[0;32m<ipython-input-229-436a249aa2b6>\u001b[0m in \u001b[0;36m<module>\u001b[0;34m\u001b[0m\n\u001b[1;32m      1\u001b[0m \u001b[0mmy_prediction\u001b[0m \u001b[0;34m=\u001b[0m \u001b[0mnp\u001b[0m\u001b[0;34m.\u001b[0m\u001b[0maround\u001b[0m\u001b[0;34m(\u001b[0m\u001b[0mmy_prediction\u001b[0m\u001b[0;34m)\u001b[0m\u001b[0;34m\u001b[0m\u001b[0;34m\u001b[0m\u001b[0m\n\u001b[0;32m----> 2\u001b[0;31m \u001b[0mf1_score\u001b[0m \u001b[0;34m=\u001b[0m \u001b[0mf1_score\u001b[0m\u001b[0;34m(\u001b[0m\u001b[0mtest_labels\u001b[0m\u001b[0;34m,\u001b[0m \u001b[0mmy_prediction\u001b[0m\u001b[0;34m,\u001b[0m \u001b[0maverage\u001b[0m\u001b[0;34m=\u001b[0m\u001b[0;34m'micro'\u001b[0m\u001b[0;34m)\u001b[0m\u001b[0;34m\u001b[0m\u001b[0;34m\u001b[0m\u001b[0m\n\u001b[0m\u001b[1;32m      3\u001b[0m \u001b[0mprint\u001b[0m\u001b[0;34m(\u001b[0m\u001b[0;34m'f1 score: {}'\u001b[0m\u001b[0;34m.\u001b[0m\u001b[0mformat\u001b[0m\u001b[0;34m(\u001b[0m\u001b[0mf1_score\u001b[0m\u001b[0;34m)\u001b[0m\u001b[0;34m)\u001b[0m\u001b[0;34m\u001b[0m\u001b[0;34m\u001b[0m\u001b[0m\n",
      "\u001b[0;31mTypeError\u001b[0m: 'numpy.float64' object is not callable"
     ]
    }
   ],
   "source": [
    "my_prediction = np.around(my_prediction)\n",
    "f1_score = f1_score(test_labels, my_prediction, average='micro')\n",
    "print('f1 score: {}'.format(f1_score))"
   ]
  },
  {
   "cell_type": "markdown",
   "metadata": {},
   "source": [
    "### Visualizations for Adam model 2"
   ]
  },
  {
   "cell_type": "code",
   "execution_count": 232,
   "metadata": {},
   "outputs": [
    {
     "data": {
      "image/png": "[encoded data removed]",
      "text/plain": [
       "<Figure size 432x288 with 1 Axes>"
      ]
     },
     "metadata": {
      "needs_background": "light"
     },
     "output_type": "display_data"
    }
   ],
   "source": [
    "# visualizing Training and validation loss\n",
    "loss = history.history['loss']\n",
    "value_loss = history.history['val_loss']\n",
    "\n",
    "epochs = range(1, len(loss) + 1)\n",
    "\n",
    "plt.plot(epochs, loss, 'bo', label='Training loss')\n",
    "plt.plot(epochs, value_loss, 'b', label='Validation loss')\n",
    "plt.title('Training and validation loss')\n",
    "plt.xlabel('Epochs')\n",
    "plt.ylabel('Loss')\n",
    "plt.legend()\n",
    "\n",
    "plt.show()"
   ]
  },
  {
   "cell_type": "code",
   "execution_count": 233,
   "metadata": {},
   "outputs": [
    {
     "data": {
      "image/png": "[encoded data removed]",
      "text/plain": [
       "<Figure size 432x288 with 1 Axes>"
      ]
     },
     "metadata": {
      "needs_background": "light"
     },
     "output_type": "display_data"
    }
   ],
   "source": [
    "# visualizing training and validation accuracy\n",
    "plt.clf()   # clear figure\n",
    "\n",
    "acc = history.history['accuracy']\n",
    "val_accuracy = history.history['val_accuracy']\n",
    "\n",
    "plt.plot(epochs, acc, 'bo', label='Training acc')\n",
    "plt.plot(epochs, val_accuracy, 'b', label='Validation acc')\n",
    "plt.title('Training and validation accuracy')\n",
    "plt.xlabel('Epochs')\n",
    "plt.ylabel('Loss')\n",
    "plt.legend()\n",
    "\n",
    "plt.show()\n"
   ]
  },
  {
   "cell_type": "markdown",
   "metadata": {},
   "source": [
    "### Fourth Model- Adam with Nesterov Momentum"
   ]
  },
  {
   "cell_type": "code",
   "execution_count": 236,
   "metadata": {},
   "outputs": [],
   "source": [
    "# implemented with tuning by adding dropouts between convolutions and padding data\n",
    "model = models.Sequential()\n",
    "\n",
    "# padding added to each convolution layer\n",
    "model.add(layers.Conv2D(32, (3, 3), padding='same', activation='relu', input_shape=(64, 64, 3)))\n",
    "\n",
    "# using dropout of .1\n",
    "model.add(layers.Dropout(0.1))\n",
    "model.add(layers.MaxPooling2D((2, 2)))\n",
    "model.add(layers.Conv2D(64, (3, 3), padding='same', activation='relu'))\n",
    "model.add(layers.Dropout(0.1))\n",
    "model.add(layers.MaxPooling2D((2, 2)))\n",
    "model.add(layers.Conv2D(64, (3, 3), padding='same', activation='relu'))\n",
    "model.add(layers.Dropout(0.1))\n",
    "model.add(layers.Flatten())\n",
    "model.add(layers.Dense(64, activation='relu'))\n",
    "model.add(layers.Dense(43, activation='softmax'))\n",
    "\n"
   ]
  },
  {
   "cell_type": "code",
   "execution_count": 237,
   "metadata": {},
   "outputs": [
    {
     "name": "stdout",
     "output_type": "stream",
     "text": [
      "Train on 36209 samples, validate on 3000 samples\n",
      "Epoch 1/5\n",
      "36209/36209 [==============================] - 268s 7ms/step - loss: 2.6933 - accuracy: 0.2866 - val_loss: 1.7873 - val_accuracy: 0.5350\n",
      "Epoch 2/5\n",
      "36209/36209 [==============================] - 265s 7ms/step - loss: 0.9236 - accuracy: 0.7280 - val_loss: 0.4556 - val_accuracy: 0.8683\n",
      "Epoch 3/5\n",
      "36209/36209 [==============================] - 286s 8ms/step - loss: 0.2519 - accuracy: 0.9280 - val_loss: 0.1763 - val_accuracy: 0.9543\n",
      "Epoch 4/5\n",
      "36209/36209 [==============================] - 256s 7ms/step - loss: 0.0992 - accuracy: 0.9746 - val_loss: 0.1613 - val_accuracy: 0.9577\n",
      "Epoch 5/5\n",
      "36209/36209 [==============================] - 254s 7ms/step - loss: 0.0509 - accuracy: 0.9872 - val_loss: 0.1354 - val_accuracy: 0.9600\n"
     ]
    }
   ],
   "source": [
    "# fourth model, 1st using Nadam\n",
    "model.compile(optimizer='Nadam',\n",
    "              loss='categorical_crossentropy',\n",
    "              metrics=['accuracy'])\n",
    "x_val = train_images[:3000]\n",
    "partial_x_train = train_images[3000:]\n",
    "y_val = train_labels[:3000]\n",
    "partial_y_train = train_labels[3000:]\n",
    "history = model.fit(partial_x_train,\n",
    "                    partial_y_train,\n",
    "                    epochs=5,\n",
    "                    batch_size=500,\n",
    "                    validation_data=(x_val, y_val))"
   ]
  },
  {
   "cell_type": "code",
   "execution_count": 238,
   "metadata": {},
   "outputs": [
    {
     "name": "stdout",
     "output_type": "stream",
     "text": [
      "12630/12630 [==============================] - 19s 1ms/step\n",
      "0.43556216644655593\n",
      "Test accuracy: 0.8851940035820007\n"
     ]
    }
   ],
   "source": [
    "test_loss, test_acc = model.evaluate(test_images, test_labels)\n",
    "print(test_loss)\n",
    "print('Test accuracy: {}'.format(test_acc))"
   ]
  },
  {
   "cell_type": "code",
   "execution_count": null,
   "metadata": {},
   "outputs": [],
   "source": []
  },
  {
   "cell_type": "code",
   "execution_count": 243,
   "metadata": {},
   "outputs": [
    {
     "data": {
      "image/png": "[encoded data removed]",
      "text/plain": [
       "<Figure size 432x288 with 1 Axes>"
      ]
     },
     "metadata": {
      "needs_background": "light"
     },
     "output_type": "display_data"
    }
   ],
   "source": [
    "# visualizing Training and validation loss\n",
    "loss = history.history['loss']\n",
    "value_loss = history.history['val_loss']\n",
    "\n",
    "epochs = range(1, len(loss) + 1)\n",
    "\n",
    "plt.plot(epochs, loss, 'bo', label='Training loss')\n",
    "plt.plot(epochs, value_loss, 'b', label='Validation loss')\n",
    "plt.title('Training and validation loss')\n",
    "plt.xlabel('Epochs')\n",
    "plt.ylabel('Loss')\n",
    "plt.legend()\n",
    "\n",
    "plt.show()"
   ]
  },
  {
   "cell_type": "code",
   "execution_count": 244,
   "metadata": {},
   "outputs": [
    {
     "data": {
      "image/png": "[encoded data removed]",
      "text/plain": [
       "<Figure size 432x288 with 1 Axes>"
      ]
     },
     "metadata": {
      "needs_background": "light"
     },
     "output_type": "display_data"
    }
   ],
   "source": [
    "# visualizing training and validation accuracy\n",
    "plt.clf()   # clear figure\n",
    "\n",
    "acc = history.history['accuracy']\n",
    "val_accuracy = history.history['val_accuracy']\n",
    "\n",
    "plt.plot(epochs, acc, 'bo', label='Training acc')\n",
    "plt.plot(epochs, val_accuracy, 'b', label='Validation acc')\n",
    "plt.title('Training and validation accuracy')\n",
    "plt.xlabel('Epochs')\n",
    "plt.ylabel('Loss')\n",
    "plt.legend()\n",
    "\n",
    "plt.show()\n"
   ]
  },
  {
   "cell_type": "code",
   "execution_count": 241,
   "metadata": {},
   "outputs": [],
   "source": [
    "model.save('adam_mod_3.h5')"
   ]
  },
  {
   "cell_type": "code",
   "execution_count": 242,
   "metadata": {},
   "outputs": [],
   "source": [
    "my_model = load_model('adam_mod_3.h5')\n",
    "# make predictions using your model \n",
    "my_prediction = my_model.predict(test_images)"
   ]
  },
  {
   "cell_type": "code",
   "execution_count": null,
   "metadata": {},
   "outputs": [],
   "source": []
  },
  {
   "cell_type": "markdown",
   "metadata": {},
   "source": [
    "### Fifth Model- Adam with Nesterov Momentum, Increasing Dropout percentage"
   ]
  },
  {
   "cell_type": "code",
   "execution_count": 246,
   "metadata": {},
   "outputs": [],
   "source": [
    "# implemented with tuning by adding dropouts between convolutions and padding data\n",
    "model = models.Sequential()\n",
    "\n",
    "# padding added to each convolution layer\n",
    "model.add(layers.Conv2D(32, (3, 3), padding='same', activation='relu', input_shape=(64, 64, 3)))\n",
    "\n",
    "# increasing dropout from .1 to .3\n",
    "model.add(layers.Dropout(0.3))\n",
    "model.add(layers.MaxPooling2D((2, 2)))\n",
    "model.add(layers.Conv2D(64, (3, 3), padding='same', activation='relu'))\n",
    "model.add(layers.Dropout(0.3))\n",
    "model.add(layers.MaxPooling2D((2, 2)))\n",
    "model.add(layers.Conv2D(64, (3, 3), padding='same', activation='relu'))\n",
    "model.add(layers.Dropout(0.3))\n",
    "model.add(layers.Flatten())\n",
    "model.add(layers.Dense(64, activation='relu'))\n",
    "model.add(layers.Dense(43, activation='softmax'))"
   ]
  },
  {
   "cell_type": "code",
   "execution_count": 247,
   "metadata": {},
   "outputs": [
    {
     "name": "stdout",
     "output_type": "stream",
     "text": [
      "Train on 36209 samples, validate on 3000 samples\n",
      "Epoch 1/5\n",
      "36209/36209 [==============================] - 244s 7ms/step - loss: 2.5620 - accuracy: 0.3307 - val_loss: 1.6060 - val_accuracy: 0.5560\n",
      "Epoch 2/5\n",
      "36209/36209 [==============================] - 227s 6ms/step - loss: 0.8581 - accuracy: 0.7394 - val_loss: 0.5054 - val_accuracy: 0.8877\n",
      "Epoch 3/5\n",
      "36209/36209 [==============================] - 237s 7ms/step - loss: 0.2724 - accuracy: 0.9213 - val_loss: 0.2276 - val_accuracy: 0.9513\n",
      "Epoch 4/5\n",
      "36209/36209 [==============================] - 225s 6ms/step - loss: 0.1088 - accuracy: 0.9705 - val_loss: 0.1668 - val_accuracy: 0.9687\n",
      "Epoch 5/5\n",
      "36209/36209 [==============================] - 276s 8ms/step - loss: 0.0648 - accuracy: 0.9833 - val_loss: 0.1403 - val_accuracy: 0.9790\n"
     ]
    }
   ],
   "source": [
    "# Fifth model, 2nd using Nadam\n",
    "model.compile(optimizer='Nadam',\n",
    "              loss='categorical_crossentropy',\n",
    "              metrics=['accuracy'])\n",
    "x_val = train_images[:3000]\n",
    "partial_x_train = train_images[3000:]\n",
    "y_val = train_labels[:3000]\n",
    "partial_y_train = train_labels[3000:]\n",
    "history = model.fit(partial_x_train,\n",
    "                    partial_y_train,\n",
    "                    epochs=5,\n",
    "                    batch_size=500,\n",
    "                    validation_data=(x_val, y_val))"
   ]
  },
  {
   "cell_type": "code",
   "execution_count": 249,
   "metadata": {},
   "outputs": [
    {
     "name": "stdout",
     "output_type": "stream",
     "text": [
      "12630/12630 [==============================] - 19s 1ms/step\n",
      "0.39781074462575\n",
      "Test accuracy: 0.9005542397499084\n"
     ]
    }
   ],
   "source": [
    "test_loss, test_acc = model.evaluate(test_images, test_labels)\n",
    "print(test_loss)\n",
    "print('Test accuracy: {}'.format(test_acc))"
   ]
  },
  {
   "cell_type": "code",
   "execution_count": 250,
   "metadata": {},
   "outputs": [
    {
     "data": {
      "image/png": "[encoded data removed]",
      "text/plain": [
       "<Figure size 432x288 with 1 Axes>"
      ]
     },
     "metadata": {
      "needs_background": "light"
     },
     "output_type": "display_data"
    }
   ],
   "source": [
    "# visualizing Training and validation loss\n",
    "loss = history.history['loss']\n",
    "value_loss = history.history['val_loss']\n",
    "\n",
    "epochs = range(1, len(loss) + 1)\n",
    "\n",
    "plt.plot(epochs, loss, 'bo', label='Training loss')\n",
    "plt.plot(epochs, value_loss, 'b', label='Validation loss')\n",
    "plt.title('Training and validation loss')\n",
    "plt.xlabel('Epochs')\n",
    "plt.ylabel('Loss')\n",
    "plt.legend()\n",
    "\n",
    "plt.show()"
   ]
  },
  {
   "cell_type": "code",
   "execution_count": 251,
   "metadata": {},
   "outputs": [
    {
     "data": {
      "image/png": "[encoded data removed]",
      "text/plain": [
       "<Figure size 432x288 with 1 Axes>"
      ]
     },
     "metadata": {
      "needs_background": "light"
     },
     "output_type": "display_data"
    }
   ],
   "source": [
    "# visualizing training and validation accuracy\n",
    "plt.clf()   # clear figure\n",
    "\n",
    "acc = history.history['accuracy']\n",
    "val_accuracy = history.history['val_accuracy']\n",
    "\n",
    "plt.plot(epochs, acc, 'bo', label='Training acc')\n",
    "plt.plot(epochs, val_accuracy, 'b', label='Validation acc')\n",
    "plt.title('Training and validation accuracy')\n",
    "plt.xlabel('Epochs')\n",
    "plt.ylabel('Loss')\n",
    "plt.legend()\n",
    "\n",
    "plt.show()\n"
   ]
  },
  {
   "cell_type": "code",
   "execution_count": 252,
   "metadata": {},
   "outputs": [],
   "source": [
    "model.save('Nadam_mod_4.h5')"
   ]
  },
  {
   "cell_type": "code",
   "execution_count": null,
   "metadata": {},
   "outputs": [],
   "source": []
  },
  {
   "cell_type": "markdown",
   "metadata": {},
   "source": [
    "### Sixth Model- compiled using a smaller batch size of 250"
   ]
  },
  {
   "cell_type": "code",
   "execution_count": 254,
   "metadata": {},
   "outputs": [],
   "source": [
    "# implemented with tuning by adding dropouts between convolutions and padding data\n",
    "model = models.Sequential()\n",
    "\n",
    "# padding added to each convolution layer\n",
    "model.add(layers.Conv2D(32, (3, 3), padding='same', activation='relu', input_shape=(64, 64, 3)))\n",
    "\n",
    "# increasing dropout from .1 to .3\n",
    "model.add(layers.Dropout(0.3))\n",
    "model.add(layers.MaxPooling2D((2, 2)))\n",
    "model.add(layers.Conv2D(64, (3, 3), padding='same', activation='relu'))\n",
    "model.add(layers.Dropout(0.3))\n",
    "model.add(layers.MaxPooling2D((2, 2)))\n",
    "model.add(layers.Conv2D(64, (3, 3), padding='same', activation='relu'))\n",
    "model.add(layers.Dropout(0.3))\n",
    "model.add(layers.Flatten())\n",
    "model.add(layers.Dense(64, activation='relu'))\n",
    "model.add(layers.Dense(43, activation='softmax'))"
   ]
  },
  {
   "cell_type": "code",
   "execution_count": 255,
   "metadata": {},
   "outputs": [
    {
     "name": "stdout",
     "output_type": "stream",
     "text": [
      "Train on 36209 samples, validate on 3000 samples\n",
      "Epoch 1/5\n",
      "36209/36209 [==============================] - 247s 7ms/step - loss: 1.8689 - accuracy: 0.4912 - val_loss: 0.6665 - val_accuracy: 0.8480\n",
      "Epoch 2/5\n",
      "36209/36209 [==============================] - 250s 7ms/step - loss: 0.3248 - accuracy: 0.9073 - val_loss: 0.2864 - val_accuracy: 0.9590\n",
      "Epoch 3/5\n",
      "36209/36209 [==============================] - 260s 7ms/step - loss: 0.1270 - accuracy: 0.9643 - val_loss: 0.1382 - val_accuracy: 0.9777\n",
      "Epoch 4/5\n",
      "36209/36209 [==============================] - 226s 6ms/step - loss: 0.0729 - accuracy: 0.9789 - val_loss: 0.1060 - val_accuracy: 0.9800\n",
      "Epoch 5/5\n",
      "36209/36209 [==============================] - 216s 6ms/step - loss: 0.0492 - accuracy: 0.9856 - val_loss: 0.0825 - val_accuracy: 0.9860\n"
     ]
    }
   ],
   "source": [
    "# Fifth model, 2nd using Nadam\n",
    "model.compile(optimizer='Nadam',\n",
    "              loss='categorical_crossentropy',\n",
    "              metrics=['accuracy'])\n",
    "x_val = train_images[:3000]\n",
    "partial_x_train = train_images[3000:]\n",
    "y_val = train_labels[:3000]\n",
    "partial_y_train = train_labels[3000:]\n",
    "history = model.fit(partial_x_train,\n",
    "                    partial_y_train,\n",
    "                    epochs=5,\n",
    "                    batch_size=250,\n",
    "                    validation_data=(x_val, y_val))"
   ]
  },
  {
   "cell_type": "code",
   "execution_count": 256,
   "metadata": {},
   "outputs": [
    {
     "name": "stdout",
     "output_type": "stream",
     "text": [
      "12630/12630 [==============================] - 21s 2ms/step\n",
      "0.2921106059638074\n",
      "Test accuracy: 0.9210609793663025\n"
     ]
    }
   ],
   "source": [
    "test_loss, test_acc = model.evaluate(test_images, test_labels)\n",
    "print(test_loss)\n",
    "print('Test accuracy: {}'.format(test_acc))"
   ]
  },
  {
   "cell_type": "code",
   "execution_count": 257,
   "metadata": {},
   "outputs": [
    {
     "data": {
      "image/png": "[encoded data removed]",
      "text/plain": [
       "<Figure size 432x288 with 1 Axes>"
      ]
     },
     "metadata": {
      "needs_background": "light"
     },
     "output_type": "display_data"
    }
   ],
   "source": [
    "# visualizing Training and validation loss\n",
    "loss = history.history['loss']\n",
    "value_loss = history.history['val_loss']\n",
    "\n",
    "epochs = range(1, len(loss) + 1)\n",
    "\n",
    "plt.plot(epochs, loss, 'bo', label='Training loss')\n",
    "plt.plot(epochs, value_loss, 'b', label='Validation loss')\n",
    "plt.title('Training and validation loss')\n",
    "plt.xlabel('Epochs')\n",
    "plt.ylabel('Loss')\n",
    "plt.legend()\n",
    "\n",
    "plt.show()"
   ]
  },
  {
   "cell_type": "code",
   "execution_count": 258,
   "metadata": {},
   "outputs": [
    {
     "data": {
      "image/png": "[encoded data removed]",
      "text/plain": [
       "<Figure size 432x288 with 1 Axes>"
      ]
     },
     "metadata": {
      "needs_background": "light"
     },
     "output_type": "display_data"
    }
   ],
   "source": [
    "# visualizing training and validation accuracy\n",
    "plt.clf()   # clear figure\n",
    "\n",
    "acc = history.history['accuracy']\n",
    "val_accuracy = history.history['val_accuracy']\n",
    "\n",
    "plt.plot(epochs, acc, 'bo', label='Training acc')\n",
    "plt.plot(epochs, val_accuracy, 'b', label='Validation acc')\n",
    "plt.title('Training and validation accuracy')\n",
    "plt.xlabel('Epochs')\n",
    "plt.ylabel('Loss')\n",
    "plt.legend()\n",
    "\n",
    "plt.show()\n"
   ]
  },
  {
   "cell_type": "code",
   "execution_count": null,
   "metadata": {},
   "outputs": [],
   "source": [
    "model.save('Nadam_mod_5.h5')"
   ]
  },
  {
   "cell_type": "code",
   "execution_count": null,
   "metadata": {},
   "outputs": [],
   "source": []
  },
  {
   "cell_type": "code",
   "execution_count": null,
   "metadata": {},
   "outputs": [],
   "source": []
  },
  {
   "cell_type": "code",
   "execution_count": null,
   "metadata": {},
   "outputs": [],
   "source": []
  },
  {
   "cell_type": "code",
   "execution_count": null,
   "metadata": {},
   "outputs": [],
   "source": []
  },
  {
   "cell_type": "code",
   "execution_count": null,
   "metadata": {},
   "outputs": [],
   "source": []
  },
  {
   "cell_type": "markdown",
   "metadata": {},
   "source": [
    "### Seventh Model"
   ]
  },
  {
   "cell_type": "code",
   "execution_count": 259,
   "metadata": {},
   "outputs": [],
   "source": [
    "# implemented with tuning by adding dropouts between convolutions and padding data\n",
    "model = models.Sequential()\n",
    "\n",
    "# padding added to each convolution layer\n",
    "model.add(layers.Conv2D(32, (3, 3), padding='same', activation='relu', input_shape=(64, 64, 3)))\n",
    "\n",
    "# dropout =  .3\n",
    "model.add(layers.Dropout(0.3))\n",
    "model.add(layers.MaxPooling2D((2, 2)))\n",
    "model.add(layers.Conv2D(64, (3, 3), padding='same', activation='relu'))\n",
    "model.add(layers.Dropout(0.3))\n",
    "model.add(layers.MaxPooling2D((2, 2)))\n",
    "model.add(layers.Conv2D(64, (3, 3), padding='same', activation='relu'))\n",
    "model.add(layers.Dropout(0.3))\n",
    "model.add(layers.Flatten())\n",
    "model.add(layers.Dense(64, activation='relu'))\n",
    "model.add(layers.Dense(43, activation='softmax'))"
   ]
  },
  {
   "cell_type": "code",
   "execution_count": 263,
   "metadata": {},
   "outputs": [
    {
     "name": "stdout",
     "output_type": "stream",
     "text": [
      "Train on 36209 samples, validate on 3000 samples\n",
      "Epoch 1/20\n",
      "36209/36209 [==============================] - 230s 6ms/step - loss: 1.7911 - accuracy: 0.5137 - val_loss: 0.5459 - val_accuracy: 0.8810\n",
      "Epoch 2/20\n",
      "36209/36209 [==============================] - 228s 6ms/step - loss: 0.2215 - accuracy: 0.9361 - val_loss: 0.1891 - val_accuracy: 0.9697\n",
      "Epoch 3/20\n",
      "36209/36209 [==============================] - 219s 6ms/step - loss: 0.0790 - accuracy: 0.9772 - val_loss: 0.1463 - val_accuracy: 0.9830\n",
      "Epoch 4/20\n",
      "36209/36209 [==============================] - 211s 6ms/step - loss: 0.0549 - accuracy: 0.9841 - val_loss: 0.1040 - val_accuracy: 0.9807\n",
      "Epoch 5/20\n",
      "36209/36209 [==============================] - 225s 6ms/step - loss: 0.0343 - accuracy: 0.9900 - val_loss: 0.0755 - val_accuracy: 0.9857\n",
      "Epoch 6/20\n",
      "36209/36209 [==============================] - 208s 6ms/step - loss: 0.0224 - accuracy: 0.9932 - val_loss: 0.0652 - val_accuracy: 0.9860\n",
      "Epoch 7/20\n",
      "36209/36209 [==============================] - 229s 6ms/step - loss: 0.0189 - accuracy: 0.9945 - val_loss: 0.0608 - val_accuracy: 0.9870\n",
      "Epoch 8/20\n",
      "36209/36209 [==============================] - 231s 6ms/step - loss: 0.0212 - accuracy: 0.9933 - val_loss: 0.0586 - val_accuracy: 0.9853\n",
      "Epoch 9/20\n",
      "36209/36209 [==============================] - 225s 6ms/step - loss: 0.0200 - accuracy: 0.9941 - val_loss: 0.0478 - val_accuracy: 0.9893\n",
      "Epoch 10/20\n",
      "36209/36209 [==============================] - 267s 7ms/step - loss: 0.0162 - accuracy: 0.9952 - val_loss: 0.0530 - val_accuracy: 0.9897\n",
      "Epoch 11/20\n",
      "36209/36209 [==============================] - 222s 6ms/step - loss: 0.0189 - accuracy: 0.9940 - val_loss: 0.0507 - val_accuracy: 0.9870\n",
      "Epoch 12/20\n",
      "36209/36209 [==============================] - 235s 6ms/step - loss: 0.0155 - accuracy: 0.9951 - val_loss: 0.0621 - val_accuracy: 0.9883\n",
      "Epoch 13/20\n",
      "36209/36209 [==============================] - 233s 6ms/step - loss: 0.0175 - accuracy: 0.9946 - val_loss: 0.0591 - val_accuracy: 0.9870\n",
      "Epoch 14/20\n",
      "36209/36209 [==============================] - 209s 6ms/step - loss: 0.0202 - accuracy: 0.9945 - val_loss: 0.0498 - val_accuracy: 0.9900\n",
      "Epoch 15/20\n",
      "36209/36209 [==============================] - 233s 6ms/step - loss: 0.0122 - accuracy: 0.9967 - val_loss: 0.0348 - val_accuracy: 0.9917\n",
      "Epoch 16/20\n",
      "36209/36209 [==============================] - 230s 6ms/step - loss: 0.0115 - accuracy: 0.9966 - val_loss: 0.0428 - val_accuracy: 0.9917\n",
      "Epoch 17/20\n",
      "36209/36209 [==============================] - 209s 6ms/step - loss: 0.0092 - accuracy: 0.9972 - val_loss: 0.0406 - val_accuracy: 0.9910\n",
      "Epoch 18/20\n",
      "36209/36209 [==============================] - 230s 6ms/step - loss: 0.0127 - accuracy: 0.9960 - val_loss: 0.0417 - val_accuracy: 0.9933\n",
      "Epoch 19/20\n",
      "36209/36209 [==============================] - 238s 7ms/step - loss: 0.0140 - accuracy: 0.9964 - val_loss: 0.0422 - val_accuracy: 0.9910\n",
      "Epoch 20/20\n",
      "36209/36209 [==============================] - 239s 7ms/step - loss: 0.0133 - accuracy: 0.9959 - val_loss: 0.0356 - val_accuracy: 0.9930\n"
     ]
    }
   ],
   "source": [
    "# Fifth model, 2nd using Nadam\n",
    "model.compile(optimizer='Nadam',\n",
    "              loss='categorical_crossentropy',\n",
    "              metrics=['accuracy'])\n",
    "x_val = train_images[:3000]\n",
    "partial_x_train = train_images[3000:]\n",
    "y_val = train_labels[:3000]\n",
    "partial_y_train = train_labels[3000:]\n",
    "history = model.fit(partial_x_train,\n",
    "                    partial_y_train,\n",
    "                    epochs=20,\n",
    "                    batch_size=250,\n",
    "                    validation_data=(x_val, y_val))"
   ]
  },
  {
   "cell_type": "code",
   "execution_count": 264,
   "metadata": {},
   "outputs": [
    {
     "name": "stdout",
     "output_type": "stream",
     "text": [
      "12630/12630 [==============================] - 23s 2ms/step\n",
      "0.23801624321291018\n",
      "Test accuracy: 0.9411718249320984\n"
     ]
    }
   ],
   "source": [
    "test_loss, test_acc = model.evaluate(test_images, test_labels)\n",
    "print(test_loss)\n",
    "print('Test accuracy: {}'.format(test_acc))"
   ]
  },
  {
   "cell_type": "code",
   "execution_count": 265,
   "metadata": {},
   "outputs": [
    {
     "data": {
      "image/png": "[encoded data removed]",
      "text/plain": [
       "<Figure size 432x288 with 1 Axes>"
      ]
     },
     "metadata": {
      "needs_background": "light"
     },
     "output_type": "display_data"
    }
   ],
   "source": [
    "# visualizing Training and validation loss\n",
    "loss = history.history['loss']\n",
    "value_loss = history.history['val_loss']\n",
    "\n",
    "epochs = range(1, len(loss) + 1)\n",
    "\n",
    "plt.plot(epochs, loss, 'bo', label='Training loss')\n",
    "plt.plot(epochs, value_loss, 'b', label='Validation loss')\n",
    "plt.title('Training and validation loss')\n",
    "plt.xlabel('Epochs')\n",
    "plt.ylabel('Loss')\n",
    "plt.legend()\n",
    "\n",
    "plt.show()"
   ]
  },
  {
   "cell_type": "code",
   "execution_count": 266,
   "metadata": {},
   "outputs": [
    {
     "data": {
      "image/png": "[encoded data removed]",
      "text/plain": [
       "<Figure size 432x288 with 1 Axes>"
      ]
     },
     "metadata": {
      "needs_background": "light"
     },
     "output_type": "display_data"
    }
   ],
   "source": [
    "# visualizing training and validation accuracy\n",
    "plt.clf()   # clear figure\n",
    "\n",
    "acc = history.history['accuracy']\n",
    "val_accuracy = history.history['val_accuracy']\n",
    "\n",
    "plt.plot(epochs, acc, 'bo', label='Training acc')\n",
    "plt.plot(epochs, val_accuracy, 'b', label='Validation acc')\n",
    "plt.title('Training and validation accuracy')\n",
    "plt.xlabel('Epochs')\n",
    "plt.ylabel('Loss')\n",
    "plt.legend()\n",
    "\n",
    "plt.show()"
   ]
  },
  {
   "cell_type": "code",
   "execution_count": 267,
   "metadata": {},
   "outputs": [],
   "source": [
    "model.save('Nadam_mod_6.h5')"
   ]
  },
  {
   "cell_type": "code",
   "execution_count": null,
   "metadata": {},
   "outputs": [],
   "source": []
  },
  {
   "cell_type": "code",
   "execution_count": null,
   "metadata": {},
   "outputs": [],
   "source": []
  },
  {
   "cell_type": "markdown",
   "metadata": {},
   "source": [
    "### Performance Evaluation"
   ]
  },
  {
   "cell_type": "code",
   "execution_count": null,
   "metadata": {},
   "outputs": [],
   "source": []
  },
  {
   "cell_type": "code",
   "execution_count": null,
   "metadata": {},
   "outputs": [],
   "source": []
  },
  {
   "cell_type": "code",
   "execution_count": null,
   "metadata": {},
   "outputs": [],
   "source": []
  },
  {
   "cell_type": "code",
   "execution_count": null,
   "metadata": {},
   "outputs": [],
   "source": []
  },
  {
   "cell_type": "code",
   "execution_count": null,
   "metadata": {},
   "outputs": [],
   "source": []
  },
  {
   "cell_type": "code",
   "execution_count": null,
   "metadata": {},
   "outputs": [],
   "source": []
  },
  {
   "cell_type": "code",
   "execution_count": null,
   "metadata": {},
   "outputs": [],
   "source": []
  },
  {
   "cell_type": "code",
   "execution_count": null,
   "metadata": {},
   "outputs": [],
   "source": []
  },
  {
   "cell_type": "code",
   "execution_count": null,
   "metadata": {},
   "outputs": [],
   "source": []
  },
  {
   "cell_type": "code",
   "execution_count": null,
   "metadata": {},
   "outputs": [],
   "source": []
  },
  {
   "cell_type": "code",
   "execution_count": null,
   "metadata": {},
   "outputs": [],
   "source": []
  }
 ],
 "metadata": {
  "kernelspec": {
   "display_name": "Python 3",
   "language": "python",
   "name": "python3"
  },
  "language_info": {
   "codemirror_mode": {
    "name": "ipython",
    "version": 3
   },
   "file_extension": ".py",
   "mimetype": "text/x-python",
   "name": "python",
   "nbconvert_exporter": "python",
   "pygments_lexer": "ipython3",
   "version": "3.7.4"
  }
 },
 "nbformat": 4,
 "nbformat_minor": 2
}
