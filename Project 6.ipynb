{
 "cells": [
  {
   "cell_type": "markdown",
   "metadata": {},
   "source": [
    "### Import Packages"
   ]
  },
  {
   "cell_type": "code",
   "execution_count": 2,
   "metadata": {},
   "outputs": [],
   "source": [
    "from keras.utils import to_categorical\n",
    "from keras import layers\n",
    "from keras import models\n",
    "from keras.preprocessing.image import ImageDataGenerator, array_to_img, img_to_array, load_img\n",
    "import matplotlib.pyplot as plt\n",
    "import numpy as np\n",
    "from PIL import Image\n",
    "from matplotlib import image\n",
    "from matplotlib import pyplot\n",
    "import pandas as pd\n",
    "from keras.utils import to_categorical"
   ]
  },
  {
   "cell_type": "markdown",
   "metadata": {},
   "source": [
    "### Load Test Dataframe"
   ]
  },
  {
   "cell_type": "code",
   "execution_count": 3,
   "metadata": {},
   "outputs": [],
   "source": [
    "df = pd.read_csv('Test.csv')"
   ]
  },
  {
   "cell_type": "markdown",
   "metadata": {},
   "source": [
    "### Generate Images From Directory"
   ]
  },
  {
   "cell_type": "code",
   "execution_count": 4,
   "metadata": {},
   "outputs": [],
   "source": [
    "# Path Directory\n",
    "train_data_dir = '../Mod 6 Project/Data/Train'\n",
    "test_data_dir = '../Mod 6 Project/Data/Test'"
   ]
  },
  {
   "cell_type": "code",
   "execution_count": 5,
   "metadata": {},
   "outputs": [
    {
     "name": "stdout",
     "output_type": "stream",
     "text": [
      "Found 39209 images belonging to 43 classes.\n",
      "Found 12630 images belonging to 1 classes.\n"
     ]
    }
   ],
   "source": [
    "# Train batches\n",
    "train_batches = ImageDataGenerator(rescale=1./255).flow_from_directory(\n",
    "                    train_data_dir,\n",
    "                    target_size=(64,64),\n",
    "                    classes=[str(i) for i in np.arange(43)],\n",
    "                    batch_size=39209)\n",
    "# Test batches\n",
    "test_batches = ImageDataGenerator(rescale=1./255).flow_from_directory(\n",
    "                    test_data_dir,\n",
    "                    target_size=(64,64),\n",
    "                    classes=[],\n",
    "                    batch_size=12630)"
   ]
  },
  {
   "cell_type": "code",
   "execution_count": 6,
   "metadata": {},
   "outputs": [],
   "source": [
    "# Extract train/test batch sequences\n",
    "train_data, train_labels = next(train_batches)\n",
    "test_data, test_labels = next(test_batches)"
   ]
  },
  {
   "cell_type": "code",
   "execution_count": 7,
   "metadata": {
    "scrolled": true
   },
   "outputs": [
    {
     "name": "stdout",
     "output_type": "stream",
     "text": [
      "test data: (12630, 64, 64, 3)\n",
      "test label: (12630, 1)\n",
      "train data: (39209, 64, 64, 3)\n",
      "train label: (39209, 43)\n"
     ]
    }
   ],
   "source": [
    "print('test data: {}'.format(test_data.shape))\n",
    "print('test label: {}'.format(test_labels.shape))\n",
    "print('train data: {}'.format(train_data.shape))\n",
    "print('train label: {}'.format(train_labels.shape))"
   ]
  },
  {
   "cell_type": "markdown",
   "metadata": {},
   "source": [
    "## Reshaping Train and Test Labels from 1 to 43 Columns"
   ]
  },
  {
   "cell_type": "code",
   "execution_count": 8,
   "metadata": {},
   "outputs": [],
   "source": [
    "# train labels\n",
    "train_labels = np.array([list(img).index(1.0) for img in train_labels])"
   ]
  },
  {
   "cell_type": "code",
   "execution_count": 9,
   "metadata": {},
   "outputs": [],
   "source": [
    "# test labels\n",
    "path_test = [int(i.replace('Test/','').replace('.png','')) for i in list(df['Path'])] # remove 'Test/','.png'\n",
    "id_test = list(df['ClassId'])\n",
    "path_id = dict(zip(path_test, id_test)) # tuple of path, id\n",
    "labels = [path_id[batch] for batch in list(test_batches.index_array)]\n",
    "test_labels = np.array(labels)"
   ]
  },
  {
   "cell_type": "code",
   "execution_count": 10,
   "metadata": {},
   "outputs": [
    {
     "name": "stdout",
     "output_type": "stream",
     "text": [
      "test label: (12630,)\n",
      "train label: (39209,)\n"
     ]
    }
   ],
   "source": [
    "print('test label: {}'.format(test_labels.shape))\n",
    "print('train label: {}'.format(train_labels.shape))"
   ]
  },
  {
   "cell_type": "code",
   "execution_count": 11,
   "metadata": {},
   "outputs": [],
   "source": [
    "train_labels = to_categorical(train_labels)\n",
    "test_labels = to_categorical(test_labels)"
   ]
  },
  {
   "cell_type": "code",
   "execution_count": 12,
   "metadata": {
    "scrolled": true
   },
   "outputs": [
    {
     "name": "stdout",
     "output_type": "stream",
     "text": [
      "test label: (12630, 43)\n",
      "train label: (39209, 43)\n"
     ]
    }
   ],
   "source": [
    "print('test label: {}'.format(test_labels.shape))\n",
    "print('train label: {}'.format(train_labels.shape))"
   ]
  },
  {
   "cell_type": "markdown",
   "metadata": {},
   "source": [
    "### C-Neural Network Architecture"
   ]
  },
  {
   "cell_type": "code",
   "execution_count": 13,
   "metadata": {},
   "outputs": [],
   "source": [
    "from keras import layers\n",
    "from keras import models\n",
    "from keras import regularizers\n",
    "\n",
    "model = models.Sequential()\n",
    "model.add(layers.Conv2D(32, (3, 3), padding='same', activation='relu', input_shape=(64, 64, 3))) # ADDED PADDING\n",
    "model.add(layers.Dropout(0.5))\n",
    "model.add(layers.MaxPooling2D((2, 2)))\n",
    "model.add(layers.Conv2D(64, (3, 3), padding='same', activation='relu'))\n",
    "model.add(layers.Dropout(0.5))\n",
    "model.add(layers.MaxPooling2D((2, 2)))\n",
    "model.add(layers.Conv2D(64, (3, 3),padding='same', activation='relu'))\n",
    "model.add(layers.Dropout(0.5))\n",
    "model.add(layers.Flatten())\n",
    "model.add(layers.Dense(64, activation='relu'))\n",
    "model.add(layers.Dense(43, activation='softmax'))\n"
   ]
  },
  {
   "cell_type": "code",
   "execution_count": 14,
   "metadata": {},
   "outputs": [
    {
     "name": "stdout",
     "output_type": "stream",
     "text": [
      "Model: \"sequential_1\"\n",
      "_________________________________________________________________\n",
      "Layer (type)                 Output Shape              Param #   \n",
      "=================================================================\n",
      "conv2d_1 (Conv2D)            (None, 64, 64, 32)        896       \n",
      "_________________________________________________________________\n",
      "dropout_1 (Dropout)          (None, 64, 64, 32)        0         \n",
      "_________________________________________________________________\n",
      "max_pooling2d_1 (MaxPooling2 (None, 32, 32, 32)        0         \n",
      "_________________________________________________________________\n",
      "conv2d_2 (Conv2D)            (None, 32, 32, 64)        18496     \n",
      "_________________________________________________________________\n",
      "dropout_2 (Dropout)          (None, 32, 32, 64)        0         \n",
      "_________________________________________________________________\n",
      "max_pooling2d_2 (MaxPooling2 (None, 16, 16, 64)        0         \n",
      "_________________________________________________________________\n",
      "conv2d_3 (Conv2D)            (None, 16, 16, 64)        36928     \n",
      "_________________________________________________________________\n",
      "dropout_3 (Dropout)          (None, 16, 16, 64)        0         \n",
      "_________________________________________________________________\n",
      "flatten_1 (Flatten)          (None, 16384)             0         \n",
      "_________________________________________________________________\n",
      "dense_1 (Dense)              (None, 64)                1048640   \n",
      "_________________________________________________________________\n",
      "dense_2 (Dense)              (None, 43)                2795      \n",
      "=================================================================\n",
      "Total params: 1,107,755\n",
      "Trainable params: 1,107,755\n",
      "Non-trainable params: 0\n",
      "_________________________________________________________________\n"
     ]
    }
   ],
   "source": [
    "model.summary()"
   ]
  },
  {
   "cell_type": "code",
   "execution_count": 15,
   "metadata": {},
   "outputs": [],
   "source": [
    "model.compile(optimizer='rmsprop',\n",
    "              loss='categorical_crossentropy',\n",
    "              metrics=['accuracy'])"
   ]
  },
  {
   "cell_type": "markdown",
   "metadata": {},
   "source": [
    "### Validation "
   ]
  },
  {
   "cell_type": "code",
   "execution_count": 17,
   "metadata": {},
   "outputs": [],
   "source": [
    "x_val = train_data[:3000]\n",
    "partial_x_train = train_data[3000:]\n",
    "\n",
    "y_val = train_labels[:3000]\n",
    "partial_y_train = train_labels[3000:]"
   ]
  },
  {
   "cell_type": "code",
   "execution_count": 24,
   "metadata": {},
   "outputs": [
    {
     "name": "stdout",
     "output_type": "stream",
     "text": [
      "Train on 36209 samples, validate on 3000 samples\n",
      "Epoch 1/10\n",
      "36209/36209 [==============================] - 146s 4ms/step - loss: 0.2039 - accuracy: 0.9425 - val_loss: 0.4151 - val_accuracy: 0.9660\n",
      "Epoch 2/10\n",
      "36209/36209 [==============================] - 148s 4ms/step - loss: 0.1453 - accuracy: 0.9588 - val_loss: 0.3605 - val_accuracy: 0.9643\n",
      "Epoch 3/10\n",
      "36209/36209 [==============================] - 148s 4ms/step - loss: 0.0963 - accuracy: 0.9715 - val_loss: 0.2203 - val_accuracy: 0.9753\n",
      "Epoch 4/10\n",
      "36209/36209 [==============================] - 147s 4ms/step - loss: 0.0833 - accuracy: 0.9766 - val_loss: 0.5058 - val_accuracy: 0.9500\n",
      "Epoch 5/10\n",
      "36209/36209 [==============================] - 150s 4ms/step - loss: 0.0603 - accuracy: 0.9820 - val_loss: 0.1990 - val_accuracy: 0.9840\n",
      "Epoch 6/10\n",
      "36209/36209 [==============================] - 167s 5ms/step - loss: 0.0538 - accuracy: 0.9835 - val_loss: 0.1704 - val_accuracy: 0.9657\n",
      "Epoch 7/10\n",
      "36209/36209 [==============================] - 159s 4ms/step - loss: 0.0391 - accuracy: 0.9878 - val_loss: 0.2152 - val_accuracy: 0.9693\n",
      "Epoch 8/10\n",
      "36209/36209 [==============================] - 157s 4ms/step - loss: 0.0341 - accuracy: 0.9898 - val_loss: 0.1285 - val_accuracy: 0.9863\n",
      "Epoch 9/10\n",
      "36209/36209 [==============================] - 155s 4ms/step - loss: 0.0354 - accuracy: 0.9891 - val_loss: 0.1078 - val_accuracy: 0.9880\n",
      "Epoch 10/10\n",
      "36209/36209 [==============================] - 159s 4ms/step - loss: 0.0219 - accuracy: 0.9933 - val_loss: 0.1005 - val_accuracy: 0.9807\n"
     ]
    }
   ],
   "source": [
    "history = model.fit(partial_x_train,\n",
    "                    partial_y_train,\n",
    "                    epochs=10,\n",
    "                    batch_size=750,\n",
    "                    validation_data=(x_val, y_val))"
   ]
  },
  {
   "cell_type": "markdown",
   "metadata": {},
   "source": [
    "### Model Evaluations"
   ]
  },
  {
   "cell_type": "code",
   "execution_count": 25,
   "metadata": {
    "scrolled": true
   },
   "outputs": [
    {
     "name": "stdout",
     "output_type": "stream",
     "text": [
      "12630/12630 [==============================] - 13s 1ms/step\n",
      "Test accuracy: 0.9078384637832642\n"
     ]
    }
   ],
   "source": [
    "test_loss, test_acc = model.evaluate(test_data, test_labels)\n",
    "print('Test accuracy: {}'.format(test_acc))"
   ]
  },
  {
   "cell_type": "code",
   "execution_count": 26,
   "metadata": {
    "scrolled": true
   },
   "outputs": [
    {
     "data": {
      "image/png": "[encoded data removed]",
      "text/plain": [
       "<Figure size 432x288 with 1 Axes>"
      ]
     },
     "metadata": {
      "needs_background": "light"
     },
     "output_type": "display_data"
    }
   ],
   "source": [
    "import matplotlib.pyplot as plt\n",
    "\n",
    "loss = history.history['loss']\n",
    "val_loss = history.history['val_loss']\n",
    "\n",
    "epochs = range(1, len(loss) + 1)\n",
    "\n",
    "plt.plot(epochs, loss, 'bo', label='Training loss')\n",
    "plt.plot(epochs, val_loss, 'b', label='Validation loss')\n",
    "plt.title('Training and validation loss')\n",
    "plt.xlabel('Epochs')\n",
    "plt.ylabel('Loss')\n",
    "plt.legend()\n",
    "\n",
    "plt.show()"
   ]
  },
  {
   "cell_type": "code",
   "execution_count": 27,
   "metadata": {},
   "outputs": [
    {
     "data": {
      "image/png": "[encoded data removed]",
      "text/plain": [
       "<Figure size 432x288 with 1 Axes>"
      ]
     },
     "metadata": {
      "needs_background": "light"
     },
     "output_type": "display_data"
    }
   ],
   "source": [
    "plt.clf()   # clear figure\n",
    "\n",
    "acc = history.history['accuracy']\n",
    "val_acc = history.history['val_accuracy']\n",
    "\n",
    "plt.plot(epochs, acc, 'bo', label='Training acc')\n",
    "plt.plot(epochs, val_acc, 'b', label='Validation acc')\n",
    "plt.title('Training and validation accuracy')\n",
    "plt.xlabel('Epochs')\n",
    "plt.ylabel('Loss')\n",
    "plt.legend()\n",
    "\n",
    "plt.show()"
   ]
  },
  {
   "cell_type": "code",
   "execution_count": 28,
   "metadata": {},
   "outputs": [
    {
     "name": "stdout",
     "output_type": "stream",
     "text": [
      "f1 score: 0.912292222450236\n"
     ]
    }
   ],
   "source": [
    "from sklearn.metrics import accuracy_score, confusion_matrix, classification_report, f1_score\n",
    "\n",
    "predictions = model.predict(test_data)\n",
    "predictions = np.around(predictions)\n",
    "f1_score = f1_score(test_labels, predictions, average='micro')\n",
    "print('f1 score: {}'.format(f1_score))"
   ]
  },
  {
   "cell_type": "code",
   "execution_count": null,
   "metadata": {},
   "outputs": [],
   "source": [
    "# show the confusion matrix of our predictions\n",
    "# compute predictions\n",
    "# predictions = model.predict_generator(generator=validation_generator)\n",
    "y_pred = [np.argmax(probas) for probas in predictions]\n",
    "# y_test = validation_generator.classes\n",
    "y_test= test_labels\n",
    "# class_names = validation_generator.class_indices.keys()\n",
    "\n",
    "# from sklearn.metrics import confusion_matrix\n",
    "# import itertools\n",
    "\n",
    "# def plot_confusion_matrix(cm, classes, title='Confusion matrix', cmap=plt.cm.Blues):\n",
    "#     cm = cm.astype('float') / cm.sum(axis=1)[:, np.newaxis]\n",
    "#     plt.figure(figsize=(10,10))\n",
    "#     plt.imshow(cm, interpolation='nearest', cmap=cmap)\n",
    "#     plt.title(title)\n",
    "#     plt.colorbar()\n",
    "# #     tick_marks = np.arange(len(classes))\n",
    "# #     plt.xticks(tick_marks, classes, rotation=45)\n",
    "# #     plt.yticks(tick_marks, classes)\n",
    "\n",
    "#     fmt = '.2f'\n",
    "#     thresh = cm.max() / 2.\n",
    "#     for i, j in itertools.product(range(cm.shape[0]), range(cm.shape[1])):\n",
    "#         plt.text(j, i, format(cm[i, j], fmt),\n",
    "#                  horizontalalignment=\"center\",\n",
    "#                  color=\"white\" if cm[i, j] > thresh else \"black\")\n",
    "\n",
    "#     plt.ylabel('True label')\n",
    "#     plt.xlabel('Predicted label')\n",
    "#     plt.tight_layout()\n",
    "    \n",
    "# # compute confusion matrix\n",
    "# cnf_matrix = confusion_matrix(y_test, y_pred)\n",
    "# np.set_printoptions(precision=2)\n",
    "\n",
    "# # plot normalized confusion matrix\n",
    "# plt.figure()\n",
    "# plot_confusion_matrix(cnf_matrix, classes=class_names, title='Normalized confusion matrix')\n",
    "# plt.show()"
   ]
  },
  {
   "cell_type": "code",
   "execution_count": null,
   "metadata": {},
   "outputs": [],
   "source": [
    "epochs = range(1, 9)\n",
    "loss = history.history['loss']\n",
    "acc = history.history['accuracy']\n",
    "import matplotlib.pyplot as plt\n",
    "\n",
    "plt.plot(epochs, loss, '--', label='Loss')\n",
    "plt.plot(epochs, acc, '-', label='Accuracy')\n",
    "\n",
    "# \"bo\" is for \"blue dot\"\n",
    "plt.xlabel('Epochs')\n",
    "plt.ylabel('Loss')\n",
    "plt.legend()\n",
    "\n",
    "plt.show()\n",
    "\n",
    "# 10 epochs, 256 batch size w/o regularuzer"
   ]
  },
  {
   "cell_type": "code",
   "execution_count": 29,
   "metadata": {},
   "outputs": [],
   "source": [
    "from keras.models import load_model\n",
    "model.save('CNN_Drop_Bias_750BS+validation.h5')\n",
    "my_model = load_model('CNN_Drop_Bias_750BS+validation.h5')\n",
    "\n",
    "my_prediction = my_model.predict(test_data)"
   ]
  },
  {
   "cell_type": "code",
   "execution_count": null,
   "metadata": {},
   "outputs": [],
   "source": []
  }
 ],
 "metadata": {
  "kernelspec": {
   "display_name": "Python 3",
   "language": "python",
   "name": "python3"
  },
  "language_info": {
   "codemirror_mode": {
    "name": "ipython",
    "version": 3
   },
   "file_extension": ".py",
   "mimetype": "text/x-python",
   "name": "python",
   "nbconvert_exporter": "python",
   "pygments_lexer": "ipython3",
   "version": "3.7.3"
  }
 },
 "nbformat": 4,
 "nbformat_minor": 2
}
